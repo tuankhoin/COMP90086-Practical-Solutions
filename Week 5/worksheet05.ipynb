{
 "cells": [
  {
   "cell_type": "markdown",
   "metadata": {},
   "source": [
    "# COMP90086 Workshop 5\n",
    "\n",
    "***\n",
    "In this worksheet, we'll implement a Multilayer perceptron and convolutional neural network (CNN) in Keras—a high-level API for deep learning. We will use MNIST Dataset for experiments.\n",
    "\n",
    "\n",
    "Table of Contents\n",
    "\n",
    "- MNIST dataset\n",
    "\n",
    "- Multilayer Perceptron\n",
    "     \n",
    "- Convolutional neural network with standard 2D convolution\n",
    "\n",
    "- Visualize Filters and Feature Maps in CNN\n",
    "     \n",
    "- Bonus: Convolutional neural network with depthwise separable convolution\n",
    "    "
   ]
  },
  {
   "cell_type": "code",
   "execution_count": null,
   "metadata": {},
   "outputs": [],
   "source": [
    "# Imports\n",
    "from datetime import datetime\n",
    "from packaging import version\n",
    "\n",
    "import tensorflow as tf\n",
    "from tensorflow import keras\n",
    "from tensorflow.keras import layers\n",
    "from tensorflow.keras.preprocessing.image import load_img\n",
    "from tensorflow.keras.applications.vgg16 import preprocess_input\n",
    "from tensorflow.keras.preprocessing.image import img_to_array\n",
    "from tensorflow.keras.models import Model\n",
    "\n",
    "import numpy as np\n",
    "import matplotlib.pyplot as plt\n",
    "\n",
    "print(\"TensorFlow version: \", tf.__version__)"
   ]
  },
  {
   "cell_type": "markdown",
   "metadata": {},
   "source": [
    "## 1. MNIST dataset\n",
    "\n",
    "MNIST is a dataset that consists of images of handwritten digits:\n",
    "* the input data are images of handwritten digits (28×28 pixels with a single 8-bit channel)\n",
    "* the target is a label in the set $\\{0, 1, \\ldots, 9\\}$\n",
    "\n",
    "The data is already split into training and test sets. The training set contains 60,000 instances and the test set contains 10,000 instances.\n",
    "\n",
    "<center>Sample images from MNIST test dataset. (MNIST refers to *Modified National Institute of Standards and Technology*.)</center>\n",
    "\n",
    "<img style=\"float: ;\" src=\"https://upload.wikimedia.org/wikipedia/commons/2/27/MnistExamples.png\" width=500 height=500>\n",
    "\n",
    "(Ref & Image Source: Wikipedia [MNIST database](https://en.wikipedia.org/wiki/MNIST_database))"
   ]
  },
  {
   "cell_type": "markdown",
   "metadata": {},
   "source": [
    "Below we load the data into NumPy arrays using a built-in function from Keras.\n",
    "\n",
    "Keras is an open-source deep learning library written in Python."
   ]
  },
  {
   "cell_type": "code",
   "execution_count": null,
   "metadata": {},
   "outputs": [],
   "source": [
    "(train_images, train_labels), (test_images, test_labels) = keras.datasets.mnist.load_data()\n",
    "print(\"train_images shape:\", train_images.shape)\n",
    "print(\"test_images shape:\", test_images.shape)"
   ]
  },
  {
   "cell_type": "markdown",
   "metadata": {},
   "source": [
    "Before using the data for classification, we need to do some basic pre-processing: \n",
    " * rescale the images so that each pixel is represented as a float between 0 and 1\n",
    " * tranform the input to be a 4D input with number of samples + (rows, cols, channels), so that it can be fed to a layer in keras."
   ]
  },
  {
   "cell_type": "code",
   "execution_count": null,
   "metadata": {},
   "outputs": [],
   "source": [
    "# Data type adjustment & rescale \n",
    "train_images = train_images.astype(float) / 255 #scale the pixel values to be 0-1\n",
    "test_images = test_images.astype(float) / 255"
   ]
  },
  {
   "cell_type": "markdown",
   "metadata": {},
   "source": [
    "### <center>Small detour: One reason for why to normalize data inputs</center>\n",
    "\n",
    "<img style=\"float: ;\" src=\"https://i.stack.imgur.com/1AxJq.png\" width=700 height=700>\n",
    "\n",
    "(Image Source: JEREMY JORDAN, [Normalizing your data](https://www.jeremyjordan.me/batch-normalization/))"
   ]
  },
  {
   "cell_type": "markdown",
   "metadata": {},
   "source": [
    "### Exercise 1\n",
    "\n",
    "tranform the input to be a 4D input with number of samples + (rows, cols, channels)\n",
    "\n",
    "***hint: use [ny.expand_dims](https://numpy.org/doc/stable/reference/generated/numpy.expand_dims.html)***"
   ]
  },
  {
   "cell_type": "code",
   "execution_count": null,
   "metadata": {},
   "outputs": [],
   "source": [
    "#transform training data\n",
    "#your code\n",
    "\n",
    "\n",
    "#transform testing data\n",
    "#your code\n",
    "\n",
    "\n",
    "\n",
    "print(\"train_images shape:\", train_images.shape)\n",
    "print(\"test_images shape:\", test_images.shape)"
   ]
  },
  {
   "cell_type": "markdown",
   "metadata": {},
   "source": [
    "The code block below visualises random examples from the training set."
   ]
  },
  {
   "cell_type": "code",
   "execution_count": null,
   "metadata": {},
   "outputs": [],
   "source": [
    "num_images = 10\n",
    "fig, axes = plt.subplots(figsize=(1.5*num_images, 1.5), ncols=num_images)\n",
    "\n",
    "# replace: Whether the sample is with or without replacement. \n",
    "# Default is True, meaning that a value of a can be selected multiple times.\n",
    "sample_ids = np.random.choice(train_images.shape[0], size=num_images, replace=False)\n",
    "\n",
    "for i, s in enumerate(sample_ids):\n",
    "    axes[i].imshow(train_images[s,:,:,0], cmap='binary')\n",
    "    axes[i].set_title(\"$y = {}$\".format(train_labels[s]))\n",
    "    axes[i].axis('off')\n",
    "plt.show()"
   ]
  },
  {
   "cell_type": "markdown",
   "metadata": {},
   "source": [
    "### <center>Small detour: Choosing Colormaps in Matplotlib</center>\n",
    "\n",
    "<img style=\"float: ;\" src=\"https://matplotlib.org/3.4.3/_images/sphx_glr_colormaps_003.png\" width=500 height=500>\n",
    "\n",
    "(Image Source: [Choosing Colormaps in Matplotlib](https://matplotlib.org/devdocs/tutorials/colors/colormaps.html))"
   ]
  },
  {
   "cell_type": "markdown",
   "metadata": {},
   "source": [
    "Finally, we note that the training set is relatively balanced—there are roughly 6000 examples for each digit."
   ]
  },
  {
   "cell_type": "code",
   "execution_count": null,
   "metadata": {},
   "outputs": [],
   "source": [
    "plt.hist(train_labels, bins=range(11), align='left')\n",
    "plt.xticks(ticks=range(11))\n",
    "plt.title('Distribution of classes in training data')\n",
    "plt.ylabel('Frequency')\n",
    "plt.xlabel('Digit')\n",
    "plt.show()"
   ]
  },
  {
   "cell_type": "markdown",
   "metadata": {},
   "source": [
    "## 2. Multilayer perceptron\n",
    "\n",
    "The handwritten digit recognition task is an example of a _multi-class_ classification problem. \n",
    "There are 10 classes—one for each digit $0, 1,\\ldots, 9$.\n",
    "\n",
    "We need to define 10 output units in the output layer and apply a softmax activation function to generate probability distribution of the classes\n",
    "\n",
    "\n",
    "This MLP model can be expressed in Keras as follows."
   ]
  },
  {
   "cell_type": "code",
   "execution_count": null,
   "metadata": {},
   "outputs": [],
   "source": [
    "# Create the MLP model\n",
    "mlp = keras.Sequential(\n",
    "    [\n",
    "        layers.Input((28,28,1)),               # Tell Keras the shape of the input array (a single-channel 28×28 image)\n",
    "        layers.Flatten(),                      # Unravel/flatten the input array\n",
    "        layers.Dense(16, activation='relu'),   # Add a fully-connected layer with 16 units and ReLU activation function as the hidden layer\n",
    "        layers.Dense(10, activation='softmax') # Add a fully-connected layer with a softmax activation function\n",
    "    ]\n",
    ")\n"
   ]
  },
  {
   "cell_type": "markdown",
   "metadata": {},
   "source": [
    "### <center>Small detour: Softmax & ReLU</center>\n",
    "<img style=\"float: left ;\" src=\"https://pic3.zhimg.com/80/v2-998ddf16795db98b980443db952731c2_1440w.jpg?source=1940ef5c\" width=400 height=400>\n",
    "\n",
    "(Image Source: These images appears in many places, including [here](https://www.programmersought.com/article/58194026613/))\n",
    "\n",
    "\n",
    "<img style=\"float: right;\" src=\"https://miro.medium.com/max/357/1*oePAhrm74RNnNEolprmTaQ.png\" width=300 height=300>\n",
    "\n",
    "(Image Source: [ReLU](https://medium.com/@kanchansarkar/relu-not-a-differentiable-function-why-used-in-gradient-based-optimization-7fef3a4cecec))"
   ]
  },
  {
   "cell_type": "markdown",
   "metadata": {},
   "source": [
    "Next, we have to specify a loss function. We use categorial [cross_entropy](https://keras.io/api/losses/probabilistic_losses/#sparsecategoricalcrossentropy-class) for this task. We use [Adam](https://en.wikipedia.org/wiki/Stochastic_gradient_descent#Adam) (Adaptive Moment Estimation) as the optimisation algorithm to update weights of the network and directs Keras to keep track of accuracy during training."
   ]
  },
  {
   "cell_type": "code",
   "execution_count": null,
   "metadata": {},
   "outputs": [],
   "source": [
    "# Configure the model\n",
    "mlp.compile(optimizer='adam',\n",
    "           loss=tf.keras.losses.SparseCategoricalCrossentropy(from_logits=False), #use SparseCategoricalCrossentropy because labels are integers. If the labels are one-hot representation, please use CategoricalCrossentropy loss.\n",
    "           metrics=['accuracy'])\n"
   ]
  },
  {
   "cell_type": "markdown",
   "metadata": {},
   "source": [
    "We're now ready to fit the `mlp` model using the training data. \n",
    "By setting `batch_size = 100`, each gradient descent step is computed w.r.t. a random batch of 100 training instances.\n",
    "By setting `epochs = 20`, we loop over the complete training data 20 times."
   ]
  },
  {
   "cell_type": "code",
   "execution_count": null,
   "metadata": {
    "scrolled": true
   },
   "outputs": [],
   "source": [
    "# Start training\n",
    "history_mlp = mlp.fit(train_images, train_labels, epochs=20, batch_size=100, \n",
    "                      validation_split=0.2)"
   ]
  },
  {
   "cell_type": "markdown",
   "metadata": {},
   "source": [
    "The plots below show that the model fit is unlikely to improve significantly with further training. \n",
    "Both the test loss and accuracy have flattened out."
   ]
  },
  {
   "cell_type": "code",
   "execution_count": null,
   "metadata": {},
   "outputs": [],
   "source": [
    "plt.plot(history_mlp.history['accuracy'], label='Train')\n",
    "plt.plot(history_mlp.history['val_accuracy'], label='Validation')\n",
    "plt.ylabel('Accuracy')\n",
    "plt.xlabel('Epoch')\n",
    "plt.title('Training and validating accuracy')\n",
    "plt.legend()\n",
    "plt.show()"
   ]
  },
  {
   "cell_type": "code",
   "execution_count": null,
   "metadata": {},
   "outputs": [],
   "source": [
    "plt.plot(history_mlp.history['loss'], label='Train')\n",
    "plt.plot(history_mlp.history['val_loss'], label='Validation')\n",
    "plt.ylabel('Accuracy')\n",
    "plt.xlabel('Loss')\n",
    "plt.title('Training and validating loss')\n",
    "plt.legend()\n",
    "plt.show()"
   ]
  },
  {
   "cell_type": "markdown",
   "metadata": {},
   "source": [
    "However, all of these observations were based on validation data. The best way to test it is to use the actual data generated earlier:\n",
    "\n",
    "### Evaluate model performance"
   ]
  },
  {
   "cell_type": "code",
   "execution_count": null,
   "metadata": {},
   "outputs": [],
   "source": [
    "# Test the model after training\n",
    "test_results = mlp.evaluate(test_images, test_labels)\n",
    "print(f'Test results - Loss: {test_results[0]} - Accuracy: {test_results[1]}%')"
   ]
  },
  {
   "cell_type": "markdown",
   "metadata": {},
   "source": [
    "Similar result? That's great :)\n",
    "### Make a prediction\n",
    "\n",
    "***Hint: Try refreshing several times to see different test examples***"
   ]
  },
  {
   "cell_type": "code",
   "execution_count": null,
   "metadata": {},
   "outputs": [],
   "source": [
    "sample_id = np.random.choice(test_images.shape[0])\n",
    "digit = test_images[sample_id]\n",
    "\n",
    "plt.imshow(digit.squeeze(), cmap=\"binary\")\n",
    "plt.title(\"$label = {}$\".format(test_labels[sample_id]))\n",
    "plt.axis('off')\n",
    "plt.show()\n",
    "\n",
    "# make a prediction for the test sample\n",
    "digit = np.reshape(digit, (-1, 28*28))\n",
    "\n",
    "predict_digit = mlp.predict(digit)\n",
    "\n",
    "for index, i in enumerate(predict_digit[0]):\n",
    "    print (\"probability for the test sample is\", index, \":\",i)\n",
    "\n",
    "print(\"------\")   \n",
    "# The predicted digit (with the highest probability value)\n",
    "print(\"The predicted digit:\",np.argmax(mlp.predict(digit, verbose=0)))"
   ]
  },
  {
   "cell_type": "markdown",
   "metadata": {},
   "source": [
    "Notice that we use the Softmax activation function in the output layer, so `predict_digit` returns a 1D tensor with 10 elements, corresponding to the probability values of each category. The predicted digit has the highest probability value."
   ]
  },
  {
   "cell_type": "markdown",
   "metadata": {},
   "source": [
    "### Summary"
   ]
  },
  {
   "cell_type": "markdown",
   "metadata": {},
   "source": [
    "We can get a useful summary, including output shape and number of parameters  of the model architecture using the `summary` method, as shown below.\n",
    "* Try to  compute the parameters of each layer yourself. Note that if you donot count bias, there could be some difference compare with the summary output number (with bias in a layer, the additional NO. parameters is the NO. filters in the layer)."
   ]
  },
  {
   "cell_type": "code",
   "execution_count": null,
   "metadata": {},
   "outputs": [],
   "source": [
    "mlp.summary()"
   ]
  },
  {
   "cell_type": "markdown",
   "metadata": {},
   "source": [
    "## 3. Convolutional neural network with standard 2D convolution \n",
    "\n",
    "Let's now construct a CNN with standard 2D convolution with the following structures for classification on the MNIST dataset.\n",
    "\n",
    "| Number | Layer type    | Specification                                                                           | Keras function |\n",
    "|--------|---------------|-----------------------------------------------------------------------------------------|----------------|\n",
    "| 1      | Convolutional | 8 5×5 filters with a stride of 1 and a ReLU activation function                         | Conv2D         |\n",
    "| 2      | Pooling       | Max pooling with a 2×2 filter and a stride of 2 (implies pooled regions do not overlap) | MaxPooling2D   |\n",
    "| 3      | Convolutional | 16 5×5 filters with a stride of 1 and a ReLU activation function                        | Conv2D         |\n",
    "| 4      | Pooling       | Same specs as pooling layer #1                                                          | MaxPooling2D   |\n",
    "| 5      | Flatten       | Nil                                                                                     | Flatten        |        |\n",
    "| 6      | Dense         | 10 units (one for each target class) with a softmax activation function.                | Dense          |\n",
    "\n"
   ]
  },
  {
   "cell_type": "markdown",
   "metadata": {},
   "source": [
    "### Exercise 2\n",
    "\n",
    "Complete the code block below to instantiate the model in Keras. \n",
    "\n",
    "Hint: check keras documents for usages of the layers, e.g., how to set the hyperparameters.\n",
    "\n",
    "*2D convolutional layer: [layers.Conv2D](https://keras.io/api/layers/convolution_layers/convolution2d/)\n",
    "\n",
    "*2D Maxpooling layer: [layers.MaxPooling2D](https://keras.io/api/layers/pooling_layers/max_pooling2d/)\n"
   ]
  },
  {
   "cell_type": "code",
   "execution_count": null,
   "metadata": {},
   "outputs": [],
   "source": [
    "cnn = keras.Sequential(\n",
    "    [\n",
    "        layers.Input((28, 28, 1)),\n",
    "        \n",
    "        #\n",
    "        #your code\n",
    "        #\n",
    "        \n",
    "        \n",
    "        layers.Flatten(),\n",
    "        layers.Dense(10, activation='softmax')\n",
    "    ], \n",
    ")"
   ]
  },
  {
   "cell_type": "markdown",
   "metadata": {},
   "source": [
    "Compile and training the model as before"
   ]
  },
  {
   "cell_type": "code",
   "execution_count": null,
   "metadata": {},
   "outputs": [],
   "source": [
    "cnn.compile(optimizer='adam',\n",
    "            loss=tf.keras.losses.SparseCategoricalCrossentropy(from_logits=False),\n",
    "            metrics=['accuracy'])"
   ]
  },
  {
   "cell_type": "markdown",
   "metadata": {},
   "source": [
    "Training the `cnn` model takes longer than training the `mlp` model on a CPU. \n",
    "You may like to set the number of epochs to a smaller number (e.g. `epochs=10`) if you don't have much time to spare."
   ]
  },
  {
   "cell_type": "code",
   "execution_count": null,
   "metadata": {
    "scrolled": true
   },
   "outputs": [],
   "source": [
    "history_cnn = cnn.fit(train_images, train_labels, epochs=10, batch_size=100, \n",
    "                      validation_split=0.2)"
   ]
  },
  {
   "cell_type": "markdown",
   "metadata": {},
   "source": [
    "Let's plot the accuracy and loss for each epoch"
   ]
  },
  {
   "cell_type": "code",
   "execution_count": null,
   "metadata": {},
   "outputs": [],
   "source": [
    "plt.plot(history_cnn.history['accuracy'], label='Train')\n",
    "plt.plot(history_cnn.history['val_accuracy'], label='Validation')\n",
    "plt.ylabel('Accuracy')\n",
    "plt.xlabel('Epoch')\n",
    "plt.title('Training and validating accuracy')\n",
    "plt.legend()\n",
    "plt.show()"
   ]
  },
  {
   "cell_type": "code",
   "execution_count": null,
   "metadata": {},
   "outputs": [],
   "source": [
    "plt.plot(history_cnn.history['loss'], label='Train')\n",
    "plt.plot(history_cnn.history['val_loss'], label='Validation')\n",
    "plt.ylabel('Accuracy')\n",
    "plt.xlabel('Loss')\n",
    "plt.title('Training and validating loss')\n",
    "plt.legend()\n",
    "plt.show()"
   ]
  },
  {
   "cell_type": "markdown",
   "metadata": {},
   "source": [
    "We can get a useful summary, including output shape and number of parameters  of the model architecture using the `summary` method, as shown below.\n",
    "* Try to  compute the parameters of each layer yourself. Note that if you donot count bias, there could be some difference compare with the summary output number (with bias in a layer, the additional NO. parameters is the NO. filters in the layer)."
   ]
  },
  {
   "cell_type": "code",
   "execution_count": null,
   "metadata": {
    "scrolled": false
   },
   "outputs": [],
   "source": [
    "cnn.summary()"
   ]
  },
  {
   "cell_type": "markdown",
   "metadata": {},
   "source": [
    "\n",
    "***\n",
    "**Question:** How does  `cnn` model compare with  the earlier `mlp` model in terms of number of parameters and testing accuracy ?\n",
    "***\n"
   ]
  },
  {
   "cell_type": "markdown",
   "metadata": {},
   "source": [
    "## 4. Visualize Filters and Feature Maps in CNN\n",
    "\n",
    "We will discover how to develop simple visualizations for filters and feature maps in a CNN. We'll be using the [VGG16 model](https://keras.io/api/applications/vgg/#vgg16-function) provided by Keras, trained on the ImageNet dataset. For more information on the VGG16, see the [paper](https://arxiv.org/abs/1409.1556).\n",
    "\n",
    "This section draws heavily on [Jason Brownlee](https://machinelearningmastery.com/)‘s work.\n",
    "\n",
    "### Load a VGG16 model loaded with pre-trained ImageNet weights\n",
    "\n",
    "If this is the first time that you have loaded the model, the weights will be downloaded from the internet and may take a moment to download depending on the speed of your internet connection."
   ]
  },
  {
   "cell_type": "code",
   "execution_count": null,
   "metadata": {},
   "outputs": [],
   "source": [
    "from tensorflow.keras.applications.vgg16 import VGG16\n",
    "\n",
    "# load the model\n",
    "model = VGG16()\n",
    "# summarize the model\n",
    "model.summary()"
   ]
  },
  {
   "cell_type": "markdown",
   "metadata": {},
   "source": [
    "Now that we have a pre-trained model, we can use it as the basis for visualizations.\n",
    "\n",
    "### Visualize Filters\n",
    "\n",
    "#### Summarize the model filters\n",
    "We can access all of the layers of the model via the `model.layers` property.\n",
    "\n",
    "Each layer has a `layer.name` property, where the convolutional layers have a naming convolution like `block#_conv#`, where the `#` is an integer. Therefore, we can check the name of each layer and skip any that don’t contain the string `conv`.\n",
    "\n",
    "Each convolutional layer has two sets of weights. One is the block of filters and the other is the block of bias values. These are accessible via the `layer.get_weights()` function. We can retrieve these weights and then summarize their shape."
   ]
  },
  {
   "cell_type": "code",
   "execution_count": null,
   "metadata": {},
   "outputs": [],
   "source": [
    "# summarize filter shapes\n",
    "for layer in model.layers:\n",
    "    # check for convolutional layer\n",
    "    if 'conv' not in layer.name:\n",
    "        continue\n",
    "    # get filter weights\n",
    "    filters, biases = layer.get_weights()\n",
    "    print(layer.name, filters.shape)"
   ]
  },
  {
   "cell_type": "markdown",
   "metadata": {},
   "source": [
    "We can see that all convolutional layers use 3×3 filters.\n",
    "\n",
    "We can see that for the input image with three channels for red, green and blue, each filter has a depth of three (here we are working with a channel-last format). We could visualize one filter as a plot with three images, one for each channel, or compress all three down to a single colour image, or even just look at the first channel and assume the other channels will look the same. The problem is that we have 63 other filters we might like to visualize.\n",
    "\n",
    "We can retrieve the filters from the first layer as follows:"
   ]
  },
  {
   "cell_type": "code",
   "execution_count": null,
   "metadata": {},
   "outputs": [],
   "source": [
    "# retrieve weights from the second hidden layer\n",
    "filters, biases = model.layers[1].get_weights()"
   ]
  },
  {
   "cell_type": "markdown",
   "metadata": {},
   "source": [
    "The weight values will likely be small positive and negative values centered around 0.0.\n",
    "\n",
    "We can normalize their values to the range 0-1 to make them easy to visualize."
   ]
  },
  {
   "cell_type": "code",
   "execution_count": null,
   "metadata": {},
   "outputs": [],
   "source": [
    "# normalize filter values to 0-1 so we can visualize them\n",
    "f_min, f_max = filters.min(), filters.max()\n",
    "filters = (filters - f_min) / (f_max - f_min)"
   ]
  },
  {
   "cell_type": "markdown",
   "metadata": {},
   "source": [
    "We will be visualising the first six filters out of 64 filters from 1st layer, and plot each of the three channels of each filter. One row for each filter and one column for each channel."
   ]
  },
  {
   "cell_type": "code",
   "execution_count": null,
   "metadata": {},
   "outputs": [],
   "source": [
    "# plot first few filters\n",
    "n_filters, ix = 6, 1\n",
    "\n",
    "fig = plt.figure(figsize=(8, 12))\n",
    "for i in range(n_filters):\n",
    "    # get the filter\n",
    "    f = filters[:, :, :, i]\n",
    "    # plot each channel separately\n",
    "    for j in range(3):\n",
    "        # subplot for 6 filters and 3 channels\n",
    "        # specify subplot and turn of axis\n",
    "        ax = plt.subplot(n_filters, 3, ix)\n",
    "        ax.set_xticks([])\n",
    "        ax.set_yticks([])\n",
    "        # plot filter channel in grayscale\n",
    "        plt.imshow(f[:, :, j], cmap='gray')\n",
    "        ix += 1\n",
    "# plot the filters\n",
    "plt.show()"
   ]
  },
  {
   "cell_type": "markdown",
   "metadata": {},
   "source": [
    "We can see that in some cases, the filter is the same across the channels (the first row), and in others, the filters differ (the last row).\n",
    "\n",
    "The dark squares indicate small or inhibitory weights and the light squares represent large or excitatory weights. Using this intuition, we can see that the filters on the first row detect a gradient from light in the top left to dark in the bottom right.\n",
    "\n",
    "\n",
    "### Visualize Feature Maps\n",
    "\n",
    "The activation maps, called feature maps, capture the result of applying the filters to input, such as the input image or another feature map.\n",
    "\n",
    "We need a clearer idea of the shape of the feature maps output by each of the convolutional layers and the layer index number so that we can retrieve the appropriate layer output. The block below will enumerate all layers in the model and print the output size or feature map size for each convolutional layer as well as the layer index in the model."
   ]
  },
  {
   "cell_type": "code",
   "execution_count": null,
   "metadata": {},
   "outputs": [],
   "source": [
    "# summarize feature map shapes\n",
    "for i in range(len(model.layers)):\n",
    "    layer = model.layers[i]\n",
    "    # check for convolutional layer\n",
    "    if 'conv' not in layer.name:\n",
    "        continue\n",
    "    # summarize output shape\n",
    "    print(i, layer.name, layer.output.shape)"
   ]
  },
  {
   "cell_type": "markdown",
   "metadata": {},
   "source": [
    "We can use this information and design a new model that is a subset of the layers in the full VGG16 model. The model would have the same input layer as the original model, but the output would be the output of a given convolutional layer, which we know would be the activation of the layer or the feature map.\n",
    "\n",
    "For example, after loading the VGG model, we can define a new model that outputs a feature map from the first convolutional layer (index 1) as follows."
   ]
  },
  {
   "cell_type": "code",
   "execution_count": null,
   "metadata": {},
   "outputs": [],
   "source": [
    "# redefine model to output right after the first hidden layer\n",
    "model = Model(inputs=model.inputs, outputs=model.layers[1].output)"
   ]
  },
  {
   "cell_type": "markdown",
   "metadata": {},
   "source": [
    "After defining the model, we need to load the image with the size expected by the model, in this case, 224×224.\n",
    "\n",
    "### Exercise 3: Try replacing it with the image of your choice\n",
    "Download your favourite photo and place it in your current working directory with the filename `harry.png`."
   ]
  },
  {
   "cell_type": "code",
   "execution_count": null,
   "metadata": {},
   "outputs": [],
   "source": [
    "# load the image with the required shape\n",
    "img = load_img('./harry.png', target_size=(224, 224))\n",
    "\n",
    "plt.imshow(img)\n",
    "plt.title(\"Harry (Photographed by Jiayang Ao)\")\n",
    "plt.axis('off')\n",
    "plt.show()\n",
    "\n",
    "# convert the image to an array\n",
    "img = img_to_array(img)\n",
    "# expand dimensions so that it represents a single 'sample'\n",
    "img = np.expand_dims(img, axis=0)\n",
    "# prepare the image (e.g. scale pixel values for the vgg)\n",
    "img = preprocess_input(img)"
   ]
  },
  {
   "cell_type": "markdown",
   "metadata": {},
   "source": [
    "We are now ready to get the feature map. We can do this easy by calling the `model.predict()` function and passing in the prepared single image.\n",
    "\n",
    "We know the result will be a feature map with 224x224x64. We can plot all 64 two-dimensional images as an 8×8 square of images."
   ]
  },
  {
   "cell_type": "code",
   "execution_count": null,
   "metadata": {},
   "outputs": [],
   "source": [
    "# get feature map for first hidden layer\n",
    "feature_maps = model.predict(img)\n",
    "\n",
    "\n",
    "fig = plt.figure(figsize=(15,15))\n",
    "# plot all 64 maps in an 8x8 squares\n",
    "square = 8\n",
    "for i in range(1, square*square+1):\n",
    "    # specify subplot and turn of axis\n",
    "    ax = plt.subplot(square,square,i)\n",
    "    ax.set_xticks([])\n",
    "    ax.set_yticks([])\n",
    "    # plot feature maps in grayscale\n",
    "    plt.imshow(feature_maps[0,:,:,i-1] , cmap='gray')\n",
    "\n",
    "# plot all feature maps   \n",
    "plt.show()"
   ]
  },
  {
   "cell_type": "markdown",
   "metadata": {},
   "source": [
    "## Bonus: Convolutional neural network with depthwise separable convolution "
   ]
  },
  {
   "cell_type": "markdown",
   "metadata": {},
   "source": [
    "### Bonus Exercise \n",
    "\n",
    "Construct a CNN with the previous architecture (same output size of feature maps in each layer), except that the standard 2D convolution is replaced  with depthwise separable convolution \n",
    "\n",
    "Complete the code block below to instantiate the model in Keras. \n",
    "\n",
    "***Hint: check keras documents for usages of the layers, e.g., how to set the hyperparameters.***\n",
    "\n",
    "- SeparableConv2D layer: [layers.SeparableConv2D](https://keras.io/api/layers/convolution_layers/separable_convolution2d/)\n"
   ]
  },
  {
   "cell_type": "code",
   "execution_count": null,
   "metadata": {},
   "outputs": [],
   "source": [
    "cnn_ds = keras.Sequential(\n",
    "    [\n",
    "        layers.Input((28, 28, 1)),\n",
    "        \n",
    "        #\n",
    "        #your code\n",
    "        #\n",
    "    \n",
    "        layers.Flatten(),\n",
    "        layers.Dense(10, activation='softmax')\n",
    "    ], \n",
    ")"
   ]
  },
  {
   "cell_type": "markdown",
   "metadata": {},
   "source": [
    "Compile and training as before"
   ]
  },
  {
   "cell_type": "code",
   "execution_count": null,
   "metadata": {
    "scrolled": true
   },
   "outputs": [],
   "source": [
    "cnn_ds.compile(optimizer='adam',\n",
    "            loss=tf.keras.losses.SparseCategoricalCrossentropy(from_logits=False),\n",
    "            metrics=['accuracy'])\n",
    "\n",
    "history_cnn_ds = cnn_ds.fit(train_images, train_labels, epochs=5, batch_size=100, validation_split=0.2)"
   ]
  },
  {
   "cell_type": "markdown",
   "metadata": {},
   "source": [
    "We can get a useful summary, including output shape and number of parameters  of the model architecture using the `summary` method, as shown below.\n",
    "* Try to  compute the parameters of each layer yourself. Note that if you donot count bias, there could be some difference compare with the summary output number (with bias in a layer, the additional NO. parameters is the NO. filters in the layer)."
   ]
  },
  {
   "cell_type": "code",
   "execution_count": null,
   "metadata": {},
   "outputs": [],
   "source": [
    "cnn_ds.summary()"
   ]
  },
  {
   "cell_type": "markdown",
   "metadata": {},
   "source": [
    "***\n",
    "**Question:** How does  `cnn_ds` model compare with  the earlier `cnn` model in terms of number of parameters and testing accuracy ?\n",
    "***\n"
   ]
  },
  {
   "cell_type": "code",
   "execution_count": null,
   "metadata": {},
   "outputs": [],
   "source": []
  }
 ],
 "metadata": {
  "kernelspec": {
   "display_name": "Python 3 (ipykernel)",
   "language": "python",
   "name": "python3"
  },
  "language_info": {
   "codemirror_mode": {
    "name": "ipython",
    "version": 3
   },
   "file_extension": ".py",
   "mimetype": "text/x-python",
   "name": "python",
   "nbconvert_exporter": "python",
   "pygments_lexer": "ipython3",
   "version": "3.8.11"
  }
 },
 "nbformat": 4,
 "nbformat_minor": 4
}
