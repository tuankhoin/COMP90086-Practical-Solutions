{
  "cells": [
    {
      "cell_type": "markdown",
      "metadata": {
        "id": "ybPPqlIO2_sl"
      },
      "source": [
        "\n",
        "### The University of Melbourne, School of Computing and Information Systems\n",
        "# COMP90086 Computer Vision, 2022\n",
        "\n",
        "## Week 1 - Introduction\n",
        "- Jupyter Notebook\n",
        "- `numpy`\n",
        "\n",
        "*This notebook is based on COMP30027 Introductory notebook*"
      ]
    },
    {
      "cell_type": "markdown",
      "metadata": {
        "id": "Fz69iv032_sp"
      },
      "source": [
        "## Cells"
      ]
    },
    {
      "cell_type": "markdown",
      "metadata": {
        "id": "-Il_Tbq52_sq"
      },
      "source": [
        "Notebooks are made up cells: *markdown cells* and *code cells*. \n",
        "\n",
        "Markdown cells can contain text, tables, images, equations, etc. \n",
        "(see the Markdown guide under the _Help_ menu for more info). "
      ]
    },
    {
      "cell_type": "markdown",
      "metadata": {
        "id": "Hiefam3m2_ss"
      },
      "source": [
        "Next are some code cells. \n",
        "You can evaluate them individually, using the <button class='btn btn-default btn-xs'><i class=\"icon-step-forward fa fa-step-forward\"></i></button> button or by hitting `<CTRL>+<ENTER>`. \n",
        "Often, you'll want to run all cells in the notebook, or below a certain point. The functions for doing this are in the _Cell_ menu."
      ]
    },
    {
      "cell_type": "markdown",
      "metadata": {
        "id": "YbkPNSaW2_su"
      },
      "source": [
        "`<Ctrl + Enter>`: Run the cell\n",
        "\n",
        "`<ESC>` + ...\n",
        "- `A`: New cell above\n",
        "- `B`: New cell below\n",
        "- `M`: Markdown mode\n",
        "- `Y`: Code mode\n",
        "- `D D`: Delete\n",
        "- `L`: Show line numbers\n",
        "\n",
        "More? Google 'Jupyter notebook shortcuts'"
      ]
    },
    {
      "cell_type": "code",
      "execution_count": null,
      "metadata": {
        "id": "MUXW1y-C2_sx",
        "outputId": "c4fffef1-77dd-4a5b-e3d5-97d64887193a"
      },
      "outputs": [
        {
          "name": "stdout",
          "output_type": "stream",
          "text": [
            "Wassup world!\n"
          ]
        }
      ],
      "source": [
        "message = \"Wassup world!\"\n",
        "print(message)"
      ]
    },
    {
      "cell_type": "markdown",
      "metadata": {
        "id": "F71XdVKN2_sz"
      },
      "source": [
        "Please ensure that the scipy, numpy, matplotlib, and sklearn packages are installed (although we won’t be\n",
        "using the latter two today)."
      ]
    },
    {
      "cell_type": "code",
      "execution_count": null,
      "metadata": {
        "collapsed": true,
        "jupyter": {
          "outputs_hidden": true
        },
        "id": "zQpjRtAW2_s0"
      },
      "outputs": [],
      "source": [
        "import scipy\n",
        "import numpy as np \n",
        "import matplotlib as mpl\n",
        "import sklearn"
      ]
    },
    {
      "cell_type": "markdown",
      "metadata": {
        "id": "vgS5WKGy2_s1"
      },
      "source": [
        "(You might wish to examine the installation instructions at http://scipy.org/install.html\n",
        "if you are considering using your local machine.)"
      ]
    },
    {
      "cell_type": "markdown",
      "metadata": {
        "id": "FSKtxZ762_s2"
      },
      "source": [
        "## NumPy Basics\n",
        "\n",
        "The main numpy object is a so-called “homogeneous multidimensional array” — note that this is a little less flexible than using a list or tuple, but it allows mathematical operations to be performed much faster. (And we’ll be doing a fair bit of number-crunching this semester, so this is an important property.) The following is an introduction to NumPy functions and properties."
      ]
    },
    {
      "cell_type": "markdown",
      "metadata": {
        "id": "x3zePvTU2_s2"
      },
      "source": [
        "### Creating Arrays"
      ]
    },
    {
      "cell_type": "code",
      "execution_count": null,
      "metadata": {
        "collapsed": true,
        "jupyter": {
          "outputs_hidden": true
        },
        "id": "wpDTLzYU2_s3"
      },
      "outputs": [],
      "source": [
        "a = np.array([0, 1, 2, 3, 4])\n",
        "b = np.array([[0, 1, 2, 3, 4], [5, 6, 7, 8, 9]], dtype = float)\n",
        "c = np.array([[1, 6], [2, 7], [3, 8], [4, 9], [5, 10]], dtype = int)"
      ]
    },
    {
      "cell_type": "code",
      "execution_count": null,
      "metadata": {
        "id": "-IRMywlq2_s4",
        "outputId": "0836998c-5e01-492b-aca1-0b90effb2cec"
      },
      "outputs": [
        {
          "data": {
            "text/plain": [
              "array([0, 1, 2, 3, 4, 5, 6, 7, 8, 9])"
            ]
          },
          "execution_count": 5,
          "metadata": {},
          "output_type": "execute_result"
        }
      ],
      "source": [
        "np.arange(0, 10)     # array of evenly spaced values\n",
        "\n",
        "\n",
        "\n",
        "\n",
        "np.linspace(0,9,10).astype(int)"
      ]
    },
    {
      "cell_type": "code",
      "execution_count": null,
      "metadata": {
        "id": "p1zm_F6N2_s5",
        "outputId": "6551681f-8588-4fd0-e043-e6d277418854"
      },
      "outputs": [
        {
          "data": {
            "text/plain": [
              "array([[0., 0., 0.],\n",
              "       [0., 0., 0.]])"
            ]
          },
          "execution_count": 6,
          "metadata": {},
          "output_type": "execute_result"
        }
      ],
      "source": [
        "np.zeros((2, 3))     # array of zeros with the given shape"
      ]
    },
    {
      "cell_type": "code",
      "execution_count": null,
      "metadata": {
        "id": "R4GgbOQ82_s6",
        "outputId": "1ffeb124-af6f-4318-ee07-fa7261eefbeb"
      },
      "outputs": [
        {
          "data": {
            "text/plain": [
              "array([1., 1.])"
            ]
          },
          "execution_count": 7,
          "metadata": {},
          "output_type": "execute_result"
        }
      ],
      "source": [
        "np.ones(2)           # array of ones with the given shape"
      ]
    },
    {
      "cell_type": "code",
      "execution_count": null,
      "metadata": {
        "id": "X5CR3CVz2_s7",
        "outputId": "f7cef20d-626f-4842-9cbe-93b0589d99fb"
      },
      "outputs": [
        {
          "data": {
            "text/plain": [
              "array([[0., 0., 0.],\n",
              "       [0., 0., 0.]])"
            ]
          },
          "execution_count": 8,
          "metadata": {},
          "output_type": "execute_result"
        }
      ],
      "source": [
        "np.empty((2, 3))     # empty array (arbitrary values)"
      ]
    },
    {
      "cell_type": "code",
      "execution_count": null,
      "metadata": {
        "id": "KoSCs1eL2_s9",
        "outputId": "2acbf652-f9a9-42db-dbc6-c68eac23f140"
      },
      "outputs": [
        {
          "data": {
            "text/plain": [
              "array([[1., 0., 0.],\n",
              "       [0., 1., 0.],\n",
              "       [0., 0., 1.]])"
            ]
          },
          "execution_count": 9,
          "metadata": {},
          "output_type": "execute_result"
        }
      ],
      "source": [
        "np.eye(3)                          # identity matrix"
      ]
    },
    {
      "cell_type": "code",
      "execution_count": null,
      "metadata": {
        "id": "jcvzI01j2_s_",
        "outputId": "9ddc0aa7-7db8-4b3c-ce34-7fee4b5cc90b"
      },
      "outputs": [
        {
          "data": {
            "text/plain": [
              "array([[3, 3, 3],\n",
              "       [3, 3, 3]])"
            ]
          },
          "execution_count": 10,
          "metadata": {},
          "output_type": "execute_result"
        }
      ],
      "source": [
        "np.full((2, 3), 3)   # fill new array with given shape"
      ]
    },
    {
      "cell_type": "markdown",
      "metadata": {
        "id": "SzGJ1fnC2_tA"
      },
      "source": [
        "### Inspecting an array"
      ]
    },
    {
      "cell_type": "code",
      "execution_count": null,
      "metadata": {
        "id": "dmMsL_5s2_tB",
        "outputId": "860e2583-d7d1-4116-f541-7ed33fd94ff1"
      },
      "outputs": [
        {
          "data": {
            "text/plain": [
              "10"
            ]
          },
          "execution_count": 11,
          "metadata": {},
          "output_type": "execute_result"
        }
      ],
      "source": [
        "b.size               # number of elements in the array"
      ]
    },
    {
      "cell_type": "code",
      "execution_count": null,
      "metadata": {
        "id": "QYsgANe62_tC",
        "outputId": "31e42ff8-5d3a-4c6c-96b5-7aa6e631c7ce"
      },
      "outputs": [
        {
          "data": {
            "text/plain": [
              "2"
            ]
          },
          "execution_count": 12,
          "metadata": {},
          "output_type": "execute_result"
        }
      ],
      "source": [
        "b.ndim               # number of dimensions"
      ]
    },
    {
      "cell_type": "code",
      "execution_count": null,
      "metadata": {
        "id": "leQ7bR-m2_tD",
        "outputId": "76c6f930-90c2-4d51-8335-ca24c965c676"
      },
      "outputs": [
        {
          "data": {
            "text/plain": [
              "(2, 5)"
            ]
          },
          "execution_count": 13,
          "metadata": {},
          "output_type": "execute_result"
        }
      ],
      "source": [
        "b.shape              # lengths of each dimension"
      ]
    },
    {
      "cell_type": "code",
      "execution_count": null,
      "metadata": {
        "id": "uPVeddwh2_tE",
        "outputId": "89405e83-1d18-47a1-8605-82fe34b1aa45"
      },
      "outputs": [
        {
          "data": {
            "text/plain": [
              "dtype('float64')"
            ]
          },
          "execution_count": 14,
          "metadata": {},
          "output_type": "execute_result"
        }
      ],
      "source": [
        "b.dtype              # data type of array elements"
      ]
    },
    {
      "cell_type": "markdown",
      "metadata": {
        "id": "HRgophmP2_tG"
      },
      "source": [
        "### Numpy Basic operations\n"
      ]
    },
    {
      "cell_type": "markdown",
      "metadata": {
        "id": "pOgxQREd2_tG"
      },
      "source": [
        "Numpy supports vector (and matrix) operations,like addition, subtraction, and scalar multiplication.\n",
        "\n",
        "You need to be very, very careful about manipulating arrays of different sizes. numpy typically won’t throw exceptions. Instead, it will do \"something\": that something might be very intelligent, like automatically increasing the dimensionality of the smaller array to match the larger array — but if you aren’t expecting it, the errors can be very difficult to find."
      ]
    },
    {
      "cell_type": "code",
      "execution_count": null,
      "metadata": {
        "id": "IObnAfGC2_tH"
      },
      "outputs": [],
      "source": [
        "a1 = np.array([0,1,2,3,4])\n",
        "a2 = np.array([1,3,-2,0,4])"
      ]
    },
    {
      "cell_type": "code",
      "execution_count": null,
      "metadata": {
        "id": "KJgOg00g2_tI",
        "outputId": "1165e930-4260-4412-e920-8594ab1df932"
      },
      "outputs": [
        {
          "name": "stdout",
          "output_type": "stream",
          "text": [
            "[1 4 0 3 8]\n",
            "[-1 -2  4  3  0]\n",
            "[ 0  3 -4  0 16]\n",
            "[ 0.          0.33333333 -1.                 inf  1.        ]\n"
          ]
        },
        {
          "name": "stderr",
          "output_type": "stream",
          "text": [
            "C:\\Users\\HP OMEN 15\\AppData\\Local\\Programs\\Python\\Python36\\lib\\site-packages\\ipykernel_launcher.py:4: RuntimeWarning: divide by zero encountered in true_divide\n",
            "  after removing the cwd from sys.path.\n"
          ]
        }
      ],
      "source": [
        "print(a1 + a2)                # element-wise addition (or np.add)\n",
        "print(a1 - a2)                # element-wise subtraction (or np.subtract)\n",
        "print(a1 * a2)                # element-wise multiplication (or np.multiply)\n",
        "print(a1 / a2)                # element-wise division (or np.divide)"
      ]
    },
    {
      "cell_type": "code",
      "execution_count": null,
      "metadata": {
        "id": "J9gtrIaN2_tN",
        "outputId": "4b3b99e7-6565-44c0-ed12-3a17679825f7"
      },
      "outputs": [
        {
          "data": {
            "text/plain": [
              "array([ True,  True,  True,  True,  True])"
            ]
          },
          "execution_count": 17,
          "metadata": {},
          "output_type": "execute_result"
        }
      ],
      "source": [
        "b.sum()              # sum elements\n",
        "b.min()              # minimum element\n",
        "b.max()              # maximum element\n",
        "b.mean()             # mean of elements\n",
        "a == a               # element-wise comparison"
      ]
    },
    {
      "cell_type": "markdown",
      "metadata": {
        "id": "NWF9heou2_tO"
      },
      "source": [
        "#### Question 1\n",
        "How can we add (element-wise) arrays `b` and `c`? "
      ]
    },
    {
      "cell_type": "code",
      "execution_count": null,
      "metadata": {
        "id": "2b0Pnp_32_tO",
        "outputId": "0bff74b7-8c0c-457d-9d9d-7a96d404648a"
      },
      "outputs": [
        {
          "name": "stdout",
          "output_type": "stream",
          "text": [
            "[[0. 1. 2. 3. 4.]\n",
            " [5. 6. 7. 8. 9.]]\n",
            "[[ 1  6]\n",
            " [ 2  7]\n",
            " [ 3  8]\n",
            " [ 4  9]\n",
            " [ 5 10]]\n"
          ]
        }
      ],
      "source": [
        "print(b)\n",
        "print(c)"
      ]
    },
    {
      "cell_type": "markdown",
      "metadata": {
        "id": "xYo04GKy2_tP"
      },
      "source": [
        "#### Answer\n",
        "We cannot! ;) The two arrays `b` and `c` have different shapes. `b.shape` is `(2, 5)`, while `c.shape` is `(5,2)` so none of the basic numpy operations (addition, subtraction, and scalar multiplication) can happen between them.   "
      ]
    },
    {
      "cell_type": "code",
      "execution_count": null,
      "metadata": {
        "id": "DeGjkQXt2_tP"
      },
      "outputs": [],
      "source": [
        "# b+c --> ValueError: operands could not be broadcast together with shapes (2,5) (5,2) "
      ]
    },
    {
      "cell_type": "markdown",
      "metadata": {
        "id": "nL4BZiR22_tQ"
      },
      "source": [
        "#### Question 2\n",
        "What do you think would be the result of comparision `b < 2`? How about `a1 == a2`?"
      ]
    },
    {
      "cell_type": "code",
      "execution_count": null,
      "metadata": {
        "id": "gQnJTX2i2_tQ",
        "outputId": "6b11b73e-80da-41ec-a1e2-0aa955797bbc"
      },
      "outputs": [
        {
          "data": {
            "text/plain": [
              "array([[ True,  True, False, False, False],\n",
              "       [False, False, False, False, False]])"
            ]
          },
          "execution_count": 20,
          "metadata": {},
          "output_type": "execute_result"
        }
      ],
      "source": [
        "b < 2                   # element-wise comparison"
      ]
    },
    {
      "cell_type": "code",
      "execution_count": null,
      "metadata": {
        "id": "zq70b4bo2_tQ",
        "outputId": "14b2ce9a-eed9-43fe-fd1d-673f1b61ac06"
      },
      "outputs": [
        {
          "data": {
            "text/plain": [
              "array([False, False, False, False,  True])"
            ]
          },
          "execution_count": 21,
          "metadata": {},
          "output_type": "execute_result"
        }
      ],
      "source": [
        "a1 == a2                # element-wise comparison"
      ]
    },
    {
      "cell_type": "markdown",
      "metadata": {
        "id": "FymeO3Kg2_tR"
      },
      "source": [
        "#### Question 3\n",
        "How can we check whether arrays have the same shape and elements?"
      ]
    },
    {
      "cell_type": "code",
      "execution_count": null,
      "metadata": {
        "id": "zBdpWILW2_tR",
        "outputId": "aa5247e5-bdb6-473a-e65d-5791cc35c2cd"
      },
      "outputs": [
        {
          "data": {
            "text/plain": [
              "False"
            ]
          },
          "execution_count": 22,
          "metadata": {},
          "output_type": "execute_result"
        }
      ],
      "source": [
        "np.array_equal(a, b)  # check whether arrays have the same shape and elements"
      ]
    },
    {
      "cell_type": "markdown",
      "metadata": {
        "id": "Vop91pBT2_tR"
      },
      "source": [
        "Bonus: What if we know that `a.shape == b.shape` ?"
      ]
    },
    {
      "cell_type": "code",
      "execution_count": null,
      "metadata": {
        "id": "PeJZw_iK2_tS",
        "outputId": "70e398f9-0b7e-4b84-8834-69a266c0b29c"
      },
      "outputs": [
        {
          "data": {
            "text/plain": [
              "False"
            ]
          },
          "execution_count": 23,
          "metadata": {},
          "output_type": "execute_result"
        }
      ],
      "source": [
        "(a==b).all()\n",
        "np.allclose(a,b)    # float comparison"
      ]
    },
    {
      "cell_type": "markdown",
      "metadata": {
        "id": "XhsTSXAA2_tS"
      },
      "source": [
        "### Using Numpy arrays\n",
        "\n",
        "Numpy arrays can be indexed, sliced, and iterated over, similarly to lists. \n",
        "\n",
        "#### Exercise 1\n",
        "Write a function to calculate the **Euclidean distance** between $\\vec{a}$ and $\\vec{b}$. \n",
        "\n",
        "\\begin{align}\n",
        "    E_d(\\vec{a},\\vec{b})= \\sqrt{\\sum_{i=1}^n (a_i-b_i)^2}\n",
        "\\end{align}"
      ]
    },
    {
      "cell_type": "code",
      "execution_count": null,
      "metadata": {
        "collapsed": true,
        "jupyter": {
          "outputs_hidden": true
        },
        "id": "2CsJPXwV2_tS"
      },
      "outputs": [],
      "source": [
        "# Original solution\n",
        "def my_euclidean_dist(a, b):\n",
        "    assert len(a)==len(b), \"Arrays are of different sizes!\"\n",
        "    return np.sqrt(sum([(a[i]-b[i])*(a[i]-b[i]) for i in range(len(a))]))\n",
        "\n",
        "def my_euclidean_dist_2(a, b):\n",
        "    assert len(a)==len(b), \"Arrays are of different sizes!\"\n",
        "    return sum((a-b)**2)**0.5"
      ]
    },
    {
      "cell_type": "markdown",
      "metadata": {
        "id": "SFvjvaob2_tT"
      },
      "source": [
        "Use this function to calculate the eculadian Distance between `a1` and `a2`."
      ]
    },
    {
      "cell_type": "code",
      "execution_count": null,
      "metadata": {
        "id": "tqOeDsw42_tT",
        "outputId": "3d85ec45-e7d5-4e58-8551-4220ea3ba502"
      },
      "outputs": [
        {
          "name": "stdout",
          "output_type": "stream",
          "text": [
            "5.477225575051661\n",
            "5.477225575051661\n"
          ]
        }
      ],
      "source": [
        "print(my_euclidean_dist(a1, a2))\n",
        "print(my_euclidean_dist_2(a1, a2))"
      ]
    },
    {
      "cell_type": "markdown",
      "metadata": {
        "id": "zh3xS0-d2_tU"
      },
      "source": [
        "### Numpy and Matrices\n",
        "\n",
        "Matrices can be made in numpy by wrapping a list of lists. For example the matrices M and N can be modeled in Numpy by using the following code.\n",
        "$$\n",
        "\\begin{align}\n",
        "    \\mathbf{M} = \\begin{pmatrix} \n",
        "        1 & 2 & 3 \\\\ 4 & 2 & 1 \\\\ 6 & 2 & 0 \n",
        "    \\end{pmatrix} \n",
        "    \\quad \\text{and} \\quad \n",
        "    \\mathbf{N} = \\begin{pmatrix} \n",
        "        0 & 3 & 1 \\\\ 1 & 1 & 4 \\\\ 2 & 0 & 3 \n",
        "    \\end{pmatrix}\n",
        "\\end{align}\n",
        "$$"
      ]
    },
    {
      "cell_type": "code",
      "execution_count": null,
      "metadata": {
        "collapsed": true,
        "jupyter": {
          "outputs_hidden": true
        },
        "id": "gTfR1TYG2_tU"
      },
      "outputs": [],
      "source": [
        "M = np.array([[1,2,3],[4,2,1],[6,2,0]])\n",
        "N = np.array([[0,3,1],[1,1,4],[2,0,3]])"
      ]
    },
    {
      "cell_type": "markdown",
      "metadata": {
        "id": "y5py02Q12_tU"
      },
      "source": [
        "You can use Numpy to perform all kind of **Linear Algebra** operations on these matrices. Such as:"
      ]
    },
    {
      "cell_type": "code",
      "execution_count": null,
      "metadata": {
        "id": "t1XUokgB2_tV",
        "outputId": "231d60ec-b61d-44be-fe6d-2ca978585a5c"
      },
      "outputs": [
        {
          "data": {
            "text/plain": [
              "array([[1, 4, 6],\n",
              "       [2, 2, 2],\n",
              "       [3, 1, 0]])"
            ]
          },
          "execution_count": 28,
          "metadata": {},
          "output_type": "execute_result"
        }
      ],
      "source": [
        "np.transpose(M)                    # reverse the Matrix M\n",
        "\n",
        "\n",
        "\n",
        "M.T"
      ]
    },
    {
      "cell_type": "markdown",
      "source": [
        ""
      ],
      "metadata": {
        "id": "CDi9KMA73wEb"
      }
    },
    {
      "cell_type": "code",
      "execution_count": null,
      "metadata": {
        "id": "qFVGJQKI2_tW",
        "outputId": "f3d8192d-eef0-4cf4-d74f-6af000bb9f82"
      },
      "outputs": [
        {
          "data": {
            "text/plain": [
              "array([[ 8,  5, 18],\n",
              "       [ 4, 14, 15],\n",
              "       [ 2, 20, 14]])"
            ]
          },
          "execution_count": 29,
          "metadata": {},
          "output_type": "execute_result"
        }
      ],
      "source": [
        "np.dot(M,N)                        # Calculate the dot product of M and N (Does it?)\n",
        "\n",
        "\n",
        "\n",
        "M @ N # (Python 3.5+)"
      ]
    },
    {
      "cell_type": "code",
      "execution_count": null,
      "metadata": {
        "id": "VDbaaja22_tX",
        "outputId": "064dbed5-a887-4e20-cd68-afd0f09f2c40"
      },
      "outputs": [
        {
          "data": {
            "text/plain": [
              "matrix([[ 1. , -3. ,  2. ],\n",
              "        [-3. ,  9. , -5.5],\n",
              "        [ 2. , -5. ,  3. ]])"
            ]
          },
          "execution_count": 30,
          "metadata": {},
          "output_type": "execute_result"
        }
      ],
      "source": [
        "np.linalg.inv(M)                   # matrix inverse\n",
        "\n",
        "\n",
        "\n",
        "np.matrix(M).I"
      ]
    },
    {
      "cell_type": "code",
      "execution_count": null,
      "metadata": {
        "id": "BbvE8Imk2_tX",
        "outputId": "172f24d1-72c4-4d7c-9823-2a02c6193a15"
      },
      "outputs": [
        {
          "data": {
            "text/plain": [
              "array([1, 2, 3, 4, 2, 1, 6, 2, 0])"
            ]
          },
          "execution_count": 31,
          "metadata": {},
          "output_type": "execute_result"
        }
      ],
      "source": [
        "np.reshape(M,9)                    # reshape the matrix to a 1D row"
      ]
    },
    {
      "cell_type": "code",
      "source": [
        "m9 = np.reshape(M,9)     \n",
        "np.reshape(m9,(1,-1))              # reshape given an unknown dimension"
      ],
      "metadata": {
        "id": "8Yv8zjnc13yR",
        "colab": {
          "base_uri": "https://localhost:8080/"
        },
        "outputId": "be087bfc-26e4-45b3-d073-7c2ab8622f3c"
      },
      "execution_count": null,
      "outputs": [
        {
          "output_type": "execute_result",
          "data": {
            "text/plain": [
              "array([[1, 2, 3, 4, 2, 1, 6, 2, 0]])"
            ]
          },
          "metadata": {},
          "execution_count": 4
        }
      ]
    },
    {
      "cell_type": "code",
      "execution_count": null,
      "metadata": {
        "id": "NEMakWMt2_tY",
        "outputId": "3adf98f8-d1ac-469d-cd48-f90cdccd1824"
      },
      "outputs": [
        {
          "name": "stdout",
          "output_type": "stream",
          "text": [
            "[[0 1 2]\n",
            " [3 4 5]\n",
            " [6 7 8]]\n"
          ]
        }
      ],
      "source": [
        "arr = np.reshape(range(9),(3,3))   # reshape the 1D row (range(9)) to a 3x3 matrix\n",
        "print(arr)"
      ]
    },
    {
      "cell_type": "code",
      "execution_count": null,
      "metadata": {
        "id": "6AbhOuaq2_tY",
        "outputId": "e5b59afd-9761-486e-8adc-54bc45ad6e80"
      },
      "outputs": [
        {
          "data": {
            "text/plain": [
              "array([[1, 2],\n",
              "       [4, 5],\n",
              "       [7, 8]])"
            ]
          },
          "execution_count": 33,
          "metadata": {},
          "output_type": "execute_result"
        }
      ],
      "source": [
        "np.delete(arr, 0, 1)                # remove the first column of the matrix"
      ]
    },
    {
      "cell_type": "code",
      "execution_count": null,
      "metadata": {
        "id": "84z42gGp2_tZ",
        "outputId": "ac1b4915-7894-4b18-9e9d-4fe15e8dcb6d"
      },
      "outputs": [
        {
          "data": {
            "text/plain": [
              "array([[0, 1, 2],\n",
              "       [3, 4, 5]])"
            ]
          },
          "execution_count": 34,
          "metadata": {},
          "output_type": "execute_result"
        }
      ],
      "source": [
        "np.delete(arr, 2, 0)                # remove the third row of the matrix"
      ]
    },
    {
      "cell_type": "markdown",
      "metadata": {
        "id": "hrQ8IlwV2_tZ"
      },
      "source": [
        "#### Exercise 2\n",
        "\n",
        "Write a function that calculates the dot product between two vectors: A · B = $\\sum_{i} a_ib_i$. Find the between  first row of matrix `M` and the first column of matrix `N`.  "
      ]
    },
    {
      "cell_type": "code",
      "execution_count": null,
      "metadata": {
        "collapsed": true,
        "jupyter": {
          "outputs_hidden": true
        },
        "id": "gBW5XVfp2_tb"
      },
      "outputs": [],
      "source": [
        "# Original solution\n",
        "def my_dot(a,b):\n",
        "    assert len(a)==len(b), \"Arrays are of different sizes!\"\n",
        "    return sum([a[i]*b[i] for i in range(len(a))])\n",
        "\n",
        "def my_dot_2(a,b):\n",
        "    assert len(a)==len(b), \"Arrays are of different sizes!\"\n",
        "    return sum(a*b)\n",
        "\n",
        "def my_dot_3(a,b):\n",
        "    assert len(a)==len(b), \"Arrays are of different sizes!\"\n",
        "    return np.einsum('i,i->',a,b)"
      ]
    },
    {
      "cell_type": "code",
      "execution_count": null,
      "metadata": {
        "id": "kCAHv4nW2_tb",
        "outputId": "bd28e42f-5a5b-4e44-c9f5-64b864240975"
      },
      "outputs": [
        {
          "name": "stdout",
          "output_type": "stream",
          "text": [
            "8\n",
            "8\n",
            "8\n"
          ]
        }
      ],
      "source": [
        "row = M[0]          #copies the first row from Matrix M\n",
        "column = N[:,0]     #copies the first column from Matrix N\n",
        "print(my_dot(row,column))\n",
        "print(my_dot_2(row,column))\n",
        "print(my_dot_3(row,column))"
      ]
    },
    {
      "cell_type": "markdown",
      "metadata": {
        "id": "RBz9e0tc2_tc"
      },
      "source": [
        "#### Exercise 3\n",
        "Write a short script to compare:\n",
        "1. M * N and np.dot(M, N)\n",
        "2. N * M and np.dot(N, M)\n",
        "3. M * M and M**2 and np.dot(M, M)"
      ]
    },
    {
      "cell_type": "code",
      "execution_count": null,
      "metadata": {
        "id": "WWzCjuJq2_tc",
        "outputId": "dac51d37-d6f5-469c-ad4c-410c8d91d7a6"
      },
      "outputs": [
        {
          "name": "stdout",
          "output_type": "stream",
          "text": [
            "M*N\n",
            " [[ 0  6  3]\n",
            " [ 4  2  4]\n",
            " [12  0  0]]\n",
            "M.N\n",
            " [[ 8  5 18]\n",
            " [ 4 14 15]\n",
            " [ 2 20 14]]\n",
            "N*M\n",
            " [[ 0  6  3]\n",
            " [ 4  2  4]\n",
            " [12  0  0]]\n",
            "N.M\n",
            " [[18  8  3]\n",
            " [29 12  4]\n",
            " [20 10  6]]\n",
            "M*M\n",
            " [[ 1  4  9]\n",
            " [16  4  1]\n",
            " [36  4  0]]\n",
            "M**2\n",
            " [[ 1  4  9]\n",
            " [16  4  1]\n",
            " [36  4  0]]\n",
            "M.M\n",
            " [[27 12  5]\n",
            " [18 14 14]\n",
            " [14 16 20]]\n"
          ]
        }
      ],
      "source": [
        "print(\"M*N\\n\",M*N)\n",
        "print(\"M.N\\n\",M @ N)\n",
        "print(\"N*M\\n\",N*M)\n",
        "print(\"N.M\\n\",N @ M)\n",
        "print(\"M*M\\n\",M*M)\n",
        "print(\"M**2\\n\",M**2)\n",
        "print(\"M.M\\n\",M @ M)"
      ]
    },
    {
      "cell_type": "markdown",
      "metadata": {
        "id": "Js7sEz5H2_td"
      },
      "source": [
        "You can probably see that the multiplication (and exponentiation) operation happens element-wise, namely:\n",
        "$MN[i][j] = M[i][j] * N[i][j]$\n",
        "\n",
        "This is actually convenient in certain contexts, but is certainly not how we typically wish to multiply matrices!"
      ]
    },
    {
      "cell_type": "markdown",
      "metadata": {
        "id": "hyzE4b8Y2_td"
      },
      "source": [
        "#### Exercise 4\n",
        "Consider the matrix **T1** as\n",
        "$$\n",
        "\\begin{align}\n",
        "    \\mathbf{T1} = \\begin{pmatrix} \n",
        "        1 & 2 & 3 \\\\ 4 & 5 & 6 \n",
        "    \\end{pmatrix} \n",
        "\\end{align}\n",
        "$$\n",
        "and arrays T2 & T3 as **T2** = `<7, 8, 9>` **T3** = `<10, 20, 30>`. Write a script to do the following:\n",
        "1. add **T2** as the third row to **T1**; \n",
        "2. add **T3** as the forth column to the result matrix"
      ]
    },
    {
      "cell_type": "code",
      "execution_count": null,
      "metadata": {
        "colab": {
          "base_uri": "https://localhost:8080/"
        },
        "id": "NfjGBMfB2_td",
        "outputId": "b3365285-2277-40fe-b489-e93046259d14"
      },
      "outputs": [
        {
          "output_type": "stream",
          "name": "stdout",
          "text": [
            "R1\n",
            " [[1 2 3]\n",
            " [4 5 6]\n",
            " [7 8 9]]\n",
            "R2\n",
            " [[ 1  2  3 10]\n",
            " [ 4  5  6 20]\n",
            " [ 7  8  9 30]]\n",
            "R1 vstack\n",
            " [[1 2 3]\n",
            " [4 5 6]\n",
            " [7 8 9]]\n",
            "R2 hstack\n",
            " [[ 1  2  3 10]\n",
            " [ 4  5  6 20]\n",
            " [ 7  8  9 30]]\n",
            "R2 column_stack\n",
            " [[ 1  2  3 10]\n",
            " [ 4  5  6 20]\n",
            " [ 7  8  9 30]]\n"
          ]
        }
      ],
      "source": [
        "T1 = np.reshape(range(1,7), (2,3))\n",
        "T2 = np.array([range(7,10)])\n",
        "T3 = np.array([[10, 20, 30]])\n",
        "\n",
        "R1 = np.concatenate((T1, T2), axis=0)\n",
        "print(\"R1\\n\",R1)\n",
        "\n",
        "R2 = np.concatenate((R1, T3.T), axis=1)\n",
        "print(\"R2\\n\",R2)\n",
        "\n",
        "# More solutions\n",
        "R1 = np.vstack((T1,T2))\n",
        "print(\"R1 vstack\\n\",R1)\n",
        "\n",
        "R2 = np.hstack((R1,T3.T.reshape(-1,1)))\n",
        "print(\"R2 hstack\\n\",R2)\n",
        "\n",
        "R2 = np.column_stack((R1,T3.T))\n",
        "print(\"R2 column_stack\\n\",R2)\n",
        "\n",
        "# https://stackoverflow.com/questions/33356442/when-should-i-use-hstack-vstack-vs-append-vs-concatenate-vs-column-stack"
      ]
    },
    {
      "cell_type": "markdown",
      "metadata": {
        "id": "xZOfGoga2_te"
      },
      "source": [
        "## Getting Help\n",
        "Confused about a particular function / method? Putting a question mark `<?>` after the object in question will return the docstring."
      ]
    },
    {
      "cell_type": "code",
      "execution_count": null,
      "metadata": {
        "collapsed": true,
        "jupyter": {
          "outputs_hidden": true
        },
        "scrolled": true,
        "id": "0eAu_hO92_te",
        "outputId": "24f5e061-5697-4903-f78b-0e97cba0fce2"
      },
      "outputs": [
        {
          "name": "stdout",
          "output_type": "stream",
          "text": [
            "\u001b[1;31mDocstring:\u001b[0m\n",
            "normal(loc=0.0, scale=1.0, size=None)\n",
            "\n",
            "Draw random samples from a normal (Gaussian) distribution.\n",
            "\n",
            "The probability density function of the normal distribution, first\n",
            "derived by De Moivre and 200 years later by both Gauss and Laplace\n",
            "independently [2]_, is often called the bell curve because of\n",
            "its characteristic shape (see the example below).\n",
            "\n",
            "The normal distributions occurs often in nature.  For example, it\n",
            "describes the commonly occurring distribution of samples influenced\n",
            "by a large number of tiny, random disturbances, each with its own\n",
            "unique distribution [2]_.\n",
            "\n",
            ".. note::\n",
            "    New code should use the ``normal`` method of a ``default_rng()``\n",
            "    instance instead; please see the :ref:`random-quick-start`.\n",
            "\n",
            "Parameters\n",
            "----------\n",
            "loc : float or array_like of floats\n",
            "    Mean (\"centre\") of the distribution.\n",
            "scale : float or array_like of floats\n",
            "    Standard deviation (spread or \"width\") of the distribution. Must be\n",
            "    non-negative.\n",
            "size : int or tuple of ints, optional\n",
            "    Output shape.  If the given shape is, e.g., ``(m, n, k)``, then\n",
            "    ``m * n * k`` samples are drawn.  If size is ``None`` (default),\n",
            "    a single value is returned if ``loc`` and ``scale`` are both scalars.\n",
            "    Otherwise, ``np.broadcast(loc, scale).size`` samples are drawn.\n",
            "\n",
            "Returns\n",
            "-------\n",
            "out : ndarray or scalar\n",
            "    Drawn samples from the parameterized normal distribution.\n",
            "\n",
            "See Also\n",
            "--------\n",
            "scipy.stats.norm : probability density function, distribution or\n",
            "    cumulative density function, etc.\n",
            "Generator.normal: which should be used for new code.\n",
            "\n",
            "Notes\n",
            "-----\n",
            "The probability density for the Gaussian distribution is\n",
            "\n",
            ".. math:: p(x) = \\frac{1}{\\sqrt{ 2 \\pi \\sigma^2 }}\n",
            "                 e^{ - \\frac{ (x - \\mu)^2 } {2 \\sigma^2} },\n",
            "\n",
            "where :math:`\\mu` is the mean and :math:`\\sigma` the standard\n",
            "deviation. The square of the standard deviation, :math:`\\sigma^2`,\n",
            "is called the variance.\n",
            "\n",
            "The function has its peak at the mean, and its \"spread\" increases with\n",
            "the standard deviation (the function reaches 0.607 times its maximum at\n",
            ":math:`x + \\sigma` and :math:`x - \\sigma` [2]_).  This implies that\n",
            "normal is more likely to return samples lying close to the mean, rather\n",
            "than those far away.\n",
            "\n",
            "References\n",
            "----------\n",
            ".. [1] Wikipedia, \"Normal distribution\",\n",
            "       https://en.wikipedia.org/wiki/Normal_distribution\n",
            ".. [2] P. R. Peebles Jr., \"Central Limit Theorem\" in \"Probability,\n",
            "       Random Variables and Random Signal Principles\", 4th ed., 2001,\n",
            "       pp. 51, 51, 125.\n",
            "\n",
            "Examples\n",
            "--------\n",
            "Draw samples from the distribution:\n",
            "\n",
            ">>> mu, sigma = 0, 0.1 # mean and standard deviation\n",
            ">>> s = np.random.normal(mu, sigma, 1000)\n",
            "\n",
            "Verify the mean and the variance:\n",
            "\n",
            ">>> abs(mu - np.mean(s))\n",
            "0.0  # may vary\n",
            "\n",
            ">>> abs(sigma - np.std(s, ddof=1))\n",
            "0.1  # may vary\n",
            "\n",
            "Display the histogram of the samples, along with\n",
            "the probability density function:\n",
            "\n",
            ">>> import matplotlib.pyplot as plt\n",
            ">>> count, bins, ignored = plt.hist(s, 30, density=True)\n",
            ">>> plt.plot(bins, 1/(sigma * np.sqrt(2 * np.pi)) *\n",
            "...                np.exp( - (bins - mu)**2 / (2 * sigma**2) ),\n",
            "...          linewidth=2, color='r')\n",
            ">>> plt.show()\n",
            "\n",
            "Two-by-four array of samples from N(3, 6.25):\n",
            "\n",
            ">>> np.random.normal(3, 2.5, size=(2, 4))\n",
            "array([[-4.49401501,  4.00950034, -1.81814867,  7.29718677],   # random\n",
            "       [ 0.39924804,  4.68456316,  4.99394529,  4.84057254]])  # random\n",
            "\u001b[1;31mType:\u001b[0m      builtin_function_or_method\n"
          ]
        }
      ],
      "source": [
        "np.random.normal?"
      ]
    },
    {
      "cell_type": "markdown",
      "metadata": {
        "id": "mH7NO3Kk2_te"
      },
      "source": [
        "## Interrupting/restarting the kernel"
      ]
    },
    {
      "cell_type": "markdown",
      "metadata": {
        "id": "Sw32SOeR2_tf"
      },
      "source": [
        "Code is run in the kernel process. You can interrupt the kernel by pressing the stop button <button class='btn btn-default btn-xs'><i class='icon-stop fa fa-stop'></i></button> in the toolbar. Try it out below."
      ]
    },
    {
      "cell_type": "code",
      "execution_count": null,
      "metadata": {
        "collapsed": true,
        "jupyter": {
          "outputs_hidden": true
        },
        "id": "iOc9Na7k2_tf"
      },
      "outputs": [],
      "source": [
        "import time\n",
        "time.sleep(10)"
      ]
    },
    {
      "cell_type": "markdown",
      "metadata": {
        "id": "Nn-4QdvB2_tf"
      },
      "source": [
        "Occassionally you may want to restart the kernel (e.g. to clear the namespace). You can do this by pressing the <button class='btn btn-default btn-xs'><i class='icon-epeat fa fa-repeat'></i></button> button in the toolbar. You can find more options under the _Kernel_ menu."
      ]
    }
  ],
  "metadata": {
    "kernelspec": {
      "display_name": "Python 3",
      "language": "python",
      "name": "python3"
    },
    "language_info": {
      "codemirror_mode": {
        "name": "ipython",
        "version": 3
      },
      "file_extension": ".py",
      "mimetype": "text/x-python",
      "name": "python",
      "nbconvert_exporter": "python",
      "pygments_lexer": "ipython3",
      "version": "3.6.8"
    },
    "colab": {
      "name": "Week 1",
      "provenance": []
    }
  },
  "nbformat": 4,
  "nbformat_minor": 0
}