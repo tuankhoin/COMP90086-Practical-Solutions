{
 "cells": [
  {
   "cell_type": "markdown",
   "metadata": {},
   "source": [
    "# COMP90086 Workshop 2"
   ]
  },
  {
   "cell_type": "markdown",
   "metadata": {},
   "source": [
    "This workshop aims to introduce you to some of the libraries we will use, including Numpy, Matplotlib and OpenCV. You will learn some basic operations on arrays and images.\n",
    "\n",
    "Table of Contents\n",
    "- [Numpy (Numerical Python)](#Numpy)\n",
    "    - Array creation \n",
    "    - Inspecting an array\n",
    "    - Indexing/slicing\n",
    "    - Array manipulation\n",
    "    - Basic operators\n",
    "    \n",
    "- [Matplotlib (Plotting and Visualization)](#Matplotlib)\n",
    "    - Basic plots\n",
    "    - Subplot\n",
    "    \n",
    "- [OpenCV (Computer Vision)](#OpenCV)\n",
    "    - Read image\n",
    "    - Show image\n",
    "    - Crop image\n",
    "    - Resize image\n",
    "    - Write image"
   ]
  },
  {
   "cell_type": "markdown",
   "metadata": {},
   "source": [
    "# Numpy"
   ]
  },
  {
   "cell_type": "markdown",
   "metadata": {},
   "source": [
    "Numpy is a numerical library with many useful functions for arrays.\n",
    "\n",
    "First, import the library. It is usually called as `np` to simplify the reference."
   ]
  },
  {
   "cell_type": "code",
   "execution_count": null,
   "metadata": {},
   "outputs": [],
   "source": [
    "import numpy as np"
   ]
  },
  {
   "cell_type": "markdown",
   "metadata": {},
   "source": [
    "## (1) Array creation"
   ]
  },
  {
   "cell_type": "code",
   "execution_count": null,
   "metadata": {},
   "outputs": [],
   "source": [
    "a = np.array([0, 1, 2, 3, 4])\n",
    "print(a)"
   ]
  },
  {
   "cell_type": "code",
   "execution_count": null,
   "metadata": {},
   "outputs": [],
   "source": [
    "b = np.array([[0, 1, 2, 3, 4], [5, 6, 7, 8, 9]], dtype = float)\n",
    "print(b)"
   ]
  },
  {
   "cell_type": "code",
   "execution_count": null,
   "metadata": {},
   "outputs": [],
   "source": [
    "c = np.array([[1, 6], [2, 7], [3, 8], [4, 9], [5, 10]], dtype = int)\n",
    "print(c)"
   ]
  },
  {
   "cell_type": "markdown",
   "metadata": {},
   "source": [
    "### Create other useful arrays with functions:"
   ]
  },
  {
   "cell_type": "code",
   "execution_count": null,
   "metadata": {},
   "outputs": [],
   "source": [
    "array_size=(2,3)\n",
    "# The repr() function returns a printable representation of the given object. \n",
    "print(repr(np.zeros(array_size)))          # Creates an array filled with zeros\n",
    "print(repr(np.ones(array_size)))           # An array of ones\n",
    "print(repr(np.eye(3)) )                    # The identity matrix I (needs 1 integer for square size)\n",
    "print(repr(np.full(array_size, 5)))        # Fills with an element\n",
    "print(repr(np.random.random(array_size)) ) # Random between 0 and 1\n",
    "print(repr(np.arange(1,11) ))              # evenly spaced values within a given interval\n",
    "print(repr(np.empty(array_size)))          # empty array (arbitrary values)"
   ]
  },
  {
   "cell_type": "markdown",
   "metadata": {},
   "source": [
    "## (2) Inspecting an array"
   ]
  },
  {
   "cell_type": "code",
   "execution_count": null,
   "metadata": {},
   "outputs": [],
   "source": [
    "print(c.dtype)  # data type of array elements\n",
    "print(c.shape)  # lengths of each dimension\n",
    "print(c.ndim)   # number of dimensions\n",
    "print(c.size)   # number of elements in the array)"
   ]
  },
  {
   "cell_type": "markdown",
   "metadata": {},
   "source": [
    "### Change the type to other type:"
   ]
  },
  {
   "cell_type": "code",
   "execution_count": null,
   "metadata": {},
   "outputs": [],
   "source": [
    "#astype() function takes an argument which is the target data type\n",
    "print(repr(a))\n",
    "print(repr(a.astype(np.float16)))\n",
    "print(repr(b))\n",
    "print(repr(b.astype(np.int8)))"
   ]
  },
  {
   "cell_type": "markdown",
   "metadata": {},
   "source": [
    "## (3) Indexing/slicing"
   ]
  },
  {
   "cell_type": "code",
   "execution_count": null,
   "metadata": {},
   "outputs": [],
   "source": [
    "b[0,1]                   # select a single element (at row 0, column 1)"
   ]
  },
  {
   "cell_type": "code",
   "execution_count": null,
   "metadata": {},
   "outputs": [],
   "source": [
    "a[0:4]                   # select a slice [start:end]"
   ]
  },
  {
   "cell_type": "code",
   "execution_count": null,
   "metadata": {},
   "outputs": [],
   "source": [
    "a[0:4:2]                 # select a slice with a stride [start:end:step]"
   ]
  },
  {
   "cell_type": "code",
   "execution_count": null,
   "metadata": {},
   "outputs": [],
   "source": [
    "a[::-1]                  # select all elements in reverse"
   ]
  },
  {
   "cell_type": "code",
   "execution_count": null,
   "metadata": {},
   "outputs": [],
   "source": [
    "b[:,2]                   # select all elements along the first axis (all rows) and only the elements with index 2 along the second axis"
   ]
  },
  {
   "cell_type": "code",
   "execution_count": null,
   "metadata": {},
   "outputs": [],
   "source": [
    "a[:, np.newaxis]         # insert a new axis (here: convert a 1D array to a column vector)"
   ]
  },
  {
   "cell_type": "code",
   "execution_count": null,
   "metadata": {},
   "outputs": [],
   "source": [
    "a[a>2]                   # boolean indexing"
   ]
  },
  {
   "cell_type": "markdown",
   "metadata": {},
   "source": [
    "\n",
    "## (4) Array manipulation"
   ]
  },
  {
   "cell_type": "code",
   "execution_count": null,
   "metadata": {},
   "outputs": [],
   "source": [
    "b = np.array([[0, 1, 2, 3, 4], [5, 6, 7, 8, 9]], dtype = float)\n",
    "\n",
    "b.ravel()                # flatten the array (or np.ravel)"
   ]
  },
  {
   "cell_type": "code",
   "execution_count": null,
   "metadata": {},
   "outputs": [],
   "source": [
    "b[0, :3]=10              # change elements of an array \n",
    "print(b)"
   ]
  },
  {
   "cell_type": "code",
   "execution_count": null,
   "metadata": {},
   "outputs": [],
   "source": [
    "b.reshape(5,2)           # change shape, but don't change values"
   ]
  },
  {
   "cell_type": "code",
   "execution_count": null,
   "metadata": {},
   "outputs": [],
   "source": [
    "np.resize(b, (6,2))      # create a new array with a different shape"
   ]
  },
  {
   "cell_type": "code",
   "execution_count": null,
   "metadata": {},
   "outputs": [],
   "source": [
    "np.append(a, [1, 1])     # append values to the end of an array"
   ]
  },
  {
   "cell_type": "code",
   "execution_count": null,
   "metadata": {},
   "outputs": [],
   "source": [
    "np.insert(a, 2, [1, 1])  # insert values at a given location"
   ]
  },
  {
   "cell_type": "code",
   "execution_count": null,
   "metadata": {},
   "outputs": [],
   "source": [
    "np.delete(a, [0,2])      # delete elements at given locations"
   ]
  },
  {
   "cell_type": "code",
   "execution_count": null,
   "metadata": {},
   "outputs": [],
   "source": [
    "np.concatenate((b, b+10), axis = 0)  # concatenate arrays"
   ]
  },
  {
   "cell_type": "code",
   "execution_count": null,
   "metadata": {},
   "outputs": [],
   "source": [
    "np.r_[b, b + 10]         # shorthand: concatenate arrays along their first axis (row-wise)"
   ]
  },
  {
   "cell_type": "code",
   "execution_count": null,
   "metadata": {},
   "outputs": [],
   "source": [
    "np.c_[b, b + 10]         # shorthand: concatenate arrays along their second axis (column-wise)"
   ]
  },
  {
   "cell_type": "code",
   "execution_count": null,
   "metadata": {},
   "outputs": [],
   "source": [
    "np.split(b, 2, axis = 0) # split an array into sub-arrays"
   ]
  },
  {
   "cell_type": "code",
   "execution_count": null,
   "metadata": {},
   "outputs": [],
   "source": [
    "aa = a.copy()            # make a deep copy of the array\n",
    "aa.fill(0)\n",
    "print(a)\n",
    "print(aa)"
   ]
  },
  {
   "cell_type": "markdown",
   "metadata": {},
   "source": [
    "\n",
    "## (5) Basic operations"
   ]
  },
  {
   "cell_type": "markdown",
   "metadata": {},
   "source": [
    "### Element-wise arithmetic"
   ]
  },
  {
   "cell_type": "code",
   "execution_count": null,
   "metadata": {},
   "outputs": [],
   "source": [
    "a = np.array([0, 1, 2, 3, 4])\n",
    "b = np.array([[0, 1, 2, 3, 4], [5, 6, 7, 8, 9]], dtype = float)\n",
    "d = np.array([5, 6, 7, 8, 9])"
   ]
  },
  {
   "cell_type": "code",
   "execution_count": null,
   "metadata": {},
   "outputs": [],
   "source": [
    "a + d                # element-wise addition (or np.add)"
   ]
  },
  {
   "cell_type": "code",
   "execution_count": null,
   "metadata": {},
   "outputs": [],
   "source": [
    "a - d                # element-wise subtraction (or np.subtract)"
   ]
  },
  {
   "cell_type": "code",
   "execution_count": null,
   "metadata": {},
   "outputs": [],
   "source": [
    "a * d                # element-wise multiplication (or np.multiply)"
   ]
  },
  {
   "cell_type": "code",
   "execution_count": null,
   "metadata": {},
   "outputs": [],
   "source": [
    "a / d                # element-wise division (or np.divide)"
   ]
  },
  {
   "cell_type": "markdown",
   "metadata": {},
   "source": [
    "### Aggregation"
   ]
  },
  {
   "cell_type": "code",
   "execution_count": null,
   "metadata": {},
   "outputs": [],
   "source": [
    "b.sum()              # sum elements"
   ]
  },
  {
   "cell_type": "code",
   "execution_count": null,
   "metadata": {},
   "outputs": [],
   "source": [
    "b.min()              # minimum element"
   ]
  },
  {
   "cell_type": "code",
   "execution_count": null,
   "metadata": {},
   "outputs": [],
   "source": [
    "b.max()              # maximum element"
   ]
  },
  {
   "cell_type": "code",
   "execution_count": null,
   "metadata": {},
   "outputs": [],
   "source": [
    "b.mean()             # mean of elements"
   ]
  },
  {
   "cell_type": "markdown",
   "metadata": {},
   "source": [
    "### Element-wise comparison"
   ]
  },
  {
   "cell_type": "code",
   "execution_count": null,
   "metadata": {},
   "outputs": [],
   "source": [
    "a == a               # element-wise comparison"
   ]
  },
  {
   "cell_type": "code",
   "execution_count": null,
   "metadata": {},
   "outputs": [],
   "source": [
    "b < 2                # element-wise comparison"
   ]
  },
  {
   "cell_type": "markdown",
   "metadata": {},
   "source": [
    "### Array-level equality"
   ]
  },
  {
   "cell_type": "code",
   "execution_count": null,
   "metadata": {},
   "outputs": [],
   "source": [
    "np.array_equal(a, b) # check whether arrays have the same shape and elements"
   ]
  },
  {
   "cell_type": "markdown",
   "metadata": {},
   "source": [
    "\n",
    "### Linear algebra"
   ]
  },
  {
   "cell_type": "code",
   "execution_count": null,
   "metadata": {},
   "outputs": [],
   "source": [
    "b.T                  # reverse the array dimensions (or np.transpose)"
   ]
  },
  {
   "cell_type": "code",
   "execution_count": null,
   "metadata": {},
   "outputs": [],
   "source": [
    "a.dot(a)             # dot product (or np.dot)"
   ]
  },
  {
   "cell_type": "code",
   "execution_count": null,
   "metadata": {},
   "outputs": [],
   "source": [
    "b @ c                # matrix multiplication (or np.matmul)"
   ]
  },
  {
   "cell_type": "code",
   "execution_count": null,
   "metadata": {},
   "outputs": [],
   "source": [
    "x = c.T @ c\n",
    "np.linalg.inv(x)     # matrix inverse"
   ]
  },
  {
   "cell_type": "code",
   "execution_count": null,
   "metadata": {},
   "outputs": [],
   "source": [
    "b.trace()            # trace of a matrix"
   ]
  },
  {
   "cell_type": "code",
   "execution_count": null,
   "metadata": {},
   "outputs": [],
   "source": [
    "np.eye(3)            # identity matrix"
   ]
  },
  {
   "cell_type": "markdown",
   "metadata": {},
   "source": [
    "\n",
    "### Universal functions (ufuncs)"
   ]
  },
  {
   "cell_type": "code",
   "execution_count": null,
   "metadata": {},
   "outputs": [],
   "source": [
    "np.exp(a)            # exponential function"
   ]
  },
  {
   "cell_type": "code",
   "execution_count": null,
   "metadata": {},
   "outputs": [],
   "source": [
    "np.sin(a)            # sine function"
   ]
  },
  {
   "cell_type": "code",
   "execution_count": null,
   "metadata": {},
   "outputs": [],
   "source": [
    "np.log(c)            # natural logarithm"
   ]
  },
  {
   "cell_type": "code",
   "execution_count": null,
   "metadata": {},
   "outputs": [],
   "source": [
    "np.abs(-b)           # absolute value"
   ]
  },
  {
   "cell_type": "code",
   "execution_count": null,
   "metadata": {},
   "outputs": [],
   "source": [
    "np.power(b, 3)       # raise to a power"
   ]
  },
  {
   "cell_type": "markdown",
   "metadata": {
    "id": "2U99DsPdlsTy"
   },
   "source": [
    "# Matplotlib\n",
    "\n",
    "Matplotlib is a plotting library. `matplotlib.pyplot` exposes a stateful, easy to use, plotting system"
   ]
  },
  {
   "cell_type": "code",
   "execution_count": null,
   "metadata": {
    "id": "azOkUU7elsTy"
   },
   "outputs": [],
   "source": [
    "import matplotlib\n",
    "import matplotlib.pyplot as plt"
   ]
  },
  {
   "cell_type": "markdown",
   "metadata": {
    "id": "X04gLBijlsT2"
   },
   "source": [
    "### Plotting"
   ]
  },
  {
   "cell_type": "code",
   "execution_count": null,
   "metadata": {
    "colab": {
     "base_uri": "https://localhost:8080/",
     "height": 265
    },
    "executionInfo": {
     "elapsed": 7037,
     "status": "ok",
     "timestamp": 1614176964714,
     "user": {
      "displayName": "Toru Suzumi",
      "photoUrl": "https://lh3.googleusercontent.com/-wes5koG2tuQ/AAAAAAAAAAI/AAAAAAAA3fU/FSZGms2rQG4/s64/photo.jpg",
      "userId": "16748556482014954062"
     },
     "user_tz": 300
    },
    "id": "zYnaz3CilsT3",
    "outputId": "9db7abaf-ea62-4cbf-cbb5-481642fa6790"
   },
   "outputs": [],
   "source": [
    "x = np.arange(-2, 2,0.1)\n",
    "y_1 = np.power(x,2)\n",
    "y_2 = -np.power(x,2)\n",
    "\n",
    "plt.plot(x, y_1,label=r'$x^2$')\n",
    "plt.plot(x, y_2,label=r'$-x^2$')\n",
    "\n",
    "plt.xlabel('x axis')\n",
    "plt.ylabel('y axis')\n",
    "plt.title('parabola')\n",
    "plt.legend()\n",
    "\n",
    "plt.show()\n",
    "\n",
    "plt.show()"
   ]
  },
  {
   "cell_type": "markdown",
   "metadata": {
    "id": "tUmTvJD3lsT8"
   },
   "source": [
    "### Subplots \n",
    "\n",
    "put different plots in the same figure"
   ]
  },
  {
   "cell_type": "code",
   "execution_count": null,
   "metadata": {
    "colab": {
     "base_uri": "https://localhost:8080/",
     "height": 281
    },
    "executionInfo": {
     "elapsed": 7659,
     "status": "ok",
     "timestamp": 1614176965354,
     "user": {
      "displayName": "Toru Suzumi",
      "photoUrl": "https://lh3.googleusercontent.com/-wes5koG2tuQ/AAAAAAAAAAI/AAAAAAAA3fU/FSZGms2rQG4/s64/photo.jpg",
      "userId": "16748556482014954062"
     },
     "user_tz": 300
    },
    "id": "cKlKQSeqlsT9",
    "outputId": "79270375-074b-40bf-a4f0-ef64d9e53f6a"
   },
   "outputs": [],
   "source": [
    "# Set up a subplot grid that has height 2 and width 1,\n",
    "# and set the first such subplot as active.\n",
    "plt.subplot(2, 1, 1)\n",
    "\n",
    "# Make the first plot\n",
    "plt.plot(x, y_1)\n",
    "plt.title(r'$x^2$')\n",
    "\n",
    "# Set the second subplot as active, and make the second plot.\n",
    "plt.subplot(2, 1, 2)\n",
    "plt.plot(x, y_2)\n",
    "plt.title(r'$-x^2$')\n",
    "\n",
    "# Specific spacing between subplots\n",
    "plt.tight_layout(pad=2.0) \n",
    "\n",
    "# Show the figure.\n",
    "plt.show()"
   ]
  },
  {
   "cell_type": "markdown",
   "metadata": {
    "id": "RfdV9IkflsT_"
   },
   "source": [
    "# OpenCV\n",
    "\n",
    "OpenCV is apopular computer vision library. It contains many powerful tools for computer vision tasks, such as reading, writing, showing and maniputlating images and videos."
   ]
  },
  {
   "cell_type": "code",
   "execution_count": null,
   "metadata": {
    "id": "QvZMt995lsUA"
   },
   "outputs": [],
   "source": [
    "import cv2\n",
    "import os\n",
    "import matplotlib\n",
    "import matplotlib.pyplot as plt\n",
    "import numpy as np"
   ]
  },
  {
   "cell_type": "markdown",
   "metadata": {},
   "source": [
    "Are you experiencing `ModuleNotFoundError: No module named 'cv2'` ？\n",
    "\n",
    "Solutions might include:\n",
    "1. Make sure you have followed the installation guide in the ‘Week 1: Software installation’.\n",
    "2. It might cause by launching the Jupyter Notebook in Anaconda with the default setting. You could try to reopen the Jupyter Notebook with the \"CV\" environment to see if it could solve this problem.\n",
    "3. If still have such issues after reopen with the “CV\" environment, you might try to upgrade anaconda to the latest version and also make sure are using python 3.7 version. "
   ]
  },
  {
   "cell_type": "code",
   "execution_count": null,
   "metadata": {},
   "outputs": [],
   "source": [
    "# python version \n",
    "import sys\n",
    "print(sys.version)"
   ]
  },
  {
   "cell_type": "markdown",
   "metadata": {},
   "source": [
    "4. Still not solved? Try the virtualenv/pip installation or use Colab as a last resort, OpenCV is included on there by default."
   ]
  },
  {
   "cell_type": "markdown",
   "metadata": {
    "id": "PFgfbGIAlsUD"
   },
   "source": [
    "## (1) Read  Image"
   ]
  },
  {
   "cell_type": "markdown",
   "metadata": {
    "id": "AKjPEnsTlsUD"
   },
   "source": [
    "\n",
    "\n",
    "`imread`:  read in an image from a filepath."
   ]
  },
  {
   "cell_type": "code",
   "execution_count": null,
   "metadata": {},
   "outputs": [],
   "source": [
    "rootpath='./'\n",
    "rgb_test = cv2.imread(os.path.join(rootpath, \"rgbtest.png\"))"
   ]
  },
  {
   "cell_type": "markdown",
   "metadata": {
    "id": "1J28iYBklsUF"
   },
   "source": [
    "Images in OpenCV are represented as numpy arrays: 1st dim-number of rows (height of image), 2nd dim - number of columns (width of image), 3rd dim- number of channels"
   ]
  },
  {
   "cell_type": "code",
   "execution_count": null,
   "metadata": {},
   "outputs": [],
   "source": [
    "type(rgb_test), rgb_test.shape, rgb_test.dtype"
   ]
  },
  {
   "cell_type": "markdown",
   "metadata": {},
   "source": [
    "### Channel order in OpenCV\n",
    "The order of channels is BGR: the 1st, 2nd and 3rd channel are the pixel values of blue channel, green channel and red channel of an image, respectively. We can verify channel order by reading the pixels of an image that contains blue, green and red regions.\n",
    "\n",
    "### Show image\n",
    "We will show image by Matplotlib, which assumes images are in the **RGB** format, but OpenCV assumes that images are in the **BGR** format. So, we'll convert colors before showing the image. Let's make a function to do this."
   ]
  },
  {
   "cell_type": "code",
   "execution_count": null,
   "metadata": {},
   "outputs": [],
   "source": [
    "def imshow(image, *args, **kwargs):\n",
    "    if len(image.shape) == 3:\n",
    "      # Height, width, channels\n",
    "      # Assume BGR, do a conversion since \n",
    "      image = cv2.cvtColor(image, cv2.COLOR_BGR2RGB)\n",
    "    else:\n",
    "      # Height, width - must be grayscale\n",
    "      # convert to RGB, since matplotlib will plot in a weird colormap (instead of black = 0, white = 1)\n",
    "      image = cv2.cvtColor(image, cv2.COLOR_GRAY2RGB)\n",
    "    # Draw the image\n",
    "    plt.imshow(image, *args, **kwargs)\n",
    "    # We'll also disable drawing the axes and tick marks in the plot, since it's actually an image\n",
    "    plt.axis('off')\n",
    "    # Make sure it outputs\n",
    "    plt.show()"
   ]
  },
  {
   "cell_type": "code",
   "execution_count": null,
   "metadata": {},
   "outputs": [],
   "source": [
    "# use our imshow fuction to see the original 'rgbtest.png'\n",
    "imshow(rgb_test)"
   ]
  },
  {
   "cell_type": "markdown",
   "metadata": {},
   "source": [
    "Next, we will show image by Matplotlib, which assumes images are in the RGB format. However, OpenCV assumes that images are in the BGR format."
   ]
  },
  {
   "cell_type": "code",
   "execution_count": null,
   "metadata": {},
   "outputs": [],
   "source": [
    "# the original RGB image but show using BGR format\n",
    "plt.imshow(rgb_test)\n",
    "plt.axis('off')\n",
    "plt.show()"
   ]
  },
  {
   "cell_type": "code",
   "execution_count": null,
   "metadata": {},
   "outputs": [],
   "source": [
    "# check the pixel value of the red region: \n",
    "# the 3rd channel(red channel) is maximum for red region\n",
    "rgb_test[100,100,:]"
   ]
  },
  {
   "cell_type": "code",
   "execution_count": null,
   "metadata": {},
   "outputs": [],
   "source": [
    "# check the pixel value of the green region: \n",
    "# the 2nd channel (green channel) is maximum for green region\n",
    "rgb_test[100,200,:]"
   ]
  },
  {
   "cell_type": "code",
   "execution_count": null,
   "metadata": {},
   "outputs": [],
   "source": [
    "# check the pixel value of the blue region: \n",
    "# the 1st channel (blue channel) is maximum for blue region\n",
    "rgb_test[100,300,:]"
   ]
  },
  {
   "cell_type": "code",
   "execution_count": null,
   "metadata": {},
   "outputs": [],
   "source": [
    "# check the pixel value of the white region: \n",
    "# all channels have maximum values (Upper-left most point)\n",
    "rgb_test[0,0,:]"
   ]
  },
  {
   "cell_type": "code",
   "execution_count": null,
   "metadata": {},
   "outputs": [],
   "source": [
    "# check the pixel value of the black region: \n",
    "# all channels have minimum values (Lower-right most point)\n",
    "rgb_test[226,340,:]"
   ]
  },
  {
   "cell_type": "markdown",
   "metadata": {
    "id": "Yrp_h0RllsUI"
   },
   "source": [
    "Let's see another example!"
   ]
  },
  {
   "cell_type": "code",
   "execution_count": null,
   "metadata": {
    "id": "mhdy1tN_lsUE"
   },
   "outputs": [],
   "source": [
    "bird= cv2.imread(os.path.join(rootpath, \"kodim23.png\"))\n",
    "type(bird), bird.shape, bird.dtype"
   ]
  },
  {
   "cell_type": "code",
   "execution_count": null,
   "metadata": {},
   "outputs": [],
   "source": [
    "# the original image\n",
    "imshow(bird)"
   ]
  },
  {
   "cell_type": "code",
   "execution_count": null,
   "metadata": {},
   "outputs": [],
   "source": [
    "# the original RGB image but show using BGR format\n",
    "plt.imshow(bird)\n",
    "plt.axis('off')\n",
    "plt.show()"
   ]
  },
  {
   "cell_type": "code",
   "execution_count": null,
   "metadata": {},
   "outputs": [],
   "source": [
    "imshow(bird[:,:,0]) # show blue channel. lighter pixel: larger value"
   ]
  },
  {
   "cell_type": "code",
   "execution_count": null,
   "metadata": {},
   "outputs": [],
   "source": [
    "imshow(bird[:,:,1]) # show green channel"
   ]
  },
  {
   "cell_type": "code",
   "execution_count": null,
   "metadata": {},
   "outputs": [],
   "source": [
    "imshow(bird[:,:,2]) # show red channel"
   ]
  },
  {
   "cell_type": "markdown",
   "metadata": {
    "id": "PFgfbGIAlsUD"
   },
   "source": [
    "## (2) Crop image"
   ]
  },
  {
   "cell_type": "markdown",
   "metadata": {
    "id": "AKjPEnsTlsUD"
   },
   "source": [
    "### Crop any region by matrix index\n"
   ]
  },
  {
   "cell_type": "code",
   "execution_count": null,
   "metadata": {},
   "outputs": [],
   "source": [
    "crop_1=bird[150:500,50:350,:] # blue sky has high value in the first dimesion (blue channel)\n",
    "imshow(crop_1)"
   ]
  },
  {
   "cell_type": "markdown",
   "metadata": {},
   "source": [
    "###  Crop center region of an image \n"
   ]
  },
  {
   "cell_type": "code",
   "execution_count": null,
   "metadata": {},
   "outputs": [],
   "source": [
    "# we assume that crop_size is the same for both width and height. we can set different values.\n",
    "def crop_center(image, crop_size):\n",
    "    height=image.shape[0] \n",
    "    width=image.shape[1] \n",
    "    upper_crop=(height-crop_size)//2  \n",
    "    left_crop=(width-crop_size)//2 \n",
    "    return image[upper_crop:upper_crop+crop_size,left_crop:left_crop+crop_size,:]"
   ]
  },
  {
   "cell_type": "code",
   "execution_count": null,
   "metadata": {},
   "outputs": [],
   "source": [
    "center_crop=crop_center(bird,500)\n",
    "imshow(center_crop)"
   ]
  },
  {
   "cell_type": "markdown",
   "metadata": {
    "id": "YKLPU5EilsUo"
   },
   "source": [
    "## (3) Resize image\n",
    "\n",
    "using `resize`. This needs the output size. Note that these are image sizes, which are expressed as (width, height), NOT to be confused with their shape. Different resizing methods can have different results"
   ]
  },
  {
   "cell_type": "code",
   "execution_count": null,
   "metadata": {},
   "outputs": [],
   "source": [
    "image_height, image_width, image_num_channels = rgb_test.shape\n",
    "new_height = image_height//10\n",
    "new_width = image_width//10\n",
    "\n",
    "# nearest-neighbor interpolation\n",
    "resize_img1= cv2.resize(rgb_test, (new_width, new_height),interpolation = cv2.INTER_NEAREST)\n",
    "\n",
    "# bicubic interpolation over 4×4 pixel neighborhood\n",
    "resize_img2= cv2.resize(rgb_test, (new_width, new_height),interpolation = cv2.INTER_CUBIC)"
   ]
  },
  {
   "cell_type": "code",
   "execution_count": null,
   "metadata": {},
   "outputs": [],
   "source": [
    "# (To display it in the browser, the image is being scaled down anyway, so resizing it 10 x 10 will not be obvious)\n",
    "imshow(rgb_test)\n",
    "print(rgb_test.shape) "
   ]
  },
  {
   "cell_type": "code",
   "execution_count": null,
   "metadata": {},
   "outputs": [],
   "source": [
    "imshow(resize_img1) \n",
    "print(resize_img1.shape)\n",
    "print('INTER_NEAREST')"
   ]
  },
  {
   "cell_type": "code",
   "execution_count": null,
   "metadata": {},
   "outputs": [],
   "source": [
    "imshow(resize_img2) \n",
    "print(resize_img2.shape)\n",
    "print('INTER_CUBIC')"
   ]
  },
  {
   "cell_type": "code",
   "execution_count": null,
   "metadata": {},
   "outputs": [],
   "source": [
    "image_height, image_width, image_num_channels = bird.shape\n",
    "new_height = image_height//10\n",
    "new_width = image_width//10\n",
    " \n",
    "resize_img3= cv2.resize(bird, (new_width, new_height),interpolation = cv2.INTER_NEAREST)\n",
    "\n",
    "resize_img4= cv2.resize(bird, (new_width, new_height),interpolation = cv2.INTER_CUBIC)"
   ]
  },
  {
   "cell_type": "code",
   "execution_count": null,
   "metadata": {},
   "outputs": [],
   "source": [
    "imshow(bird)\n",
    "print(bird.shape)"
   ]
  },
  {
   "cell_type": "code",
   "execution_count": null,
   "metadata": {},
   "outputs": [],
   "source": [
    "imshow(resize_img3) \n",
    "print(resize_img3.shape)\n",
    "print('INTER_NEAREST')"
   ]
  },
  {
   "cell_type": "code",
   "execution_count": null,
   "metadata": {},
   "outputs": [],
   "source": [
    "imshow(resize_img4) \n",
    "print(resize_img4.shape)\n",
    "print('INTER_CUBIC')"
   ]
  },
  {
   "cell_type": "markdown",
   "metadata": {
    "id": "gjWQYjYVlsUt"
   },
   "source": [
    "## (4) Write Image"
   ]
  },
  {
   "cell_type": "markdown",
   "metadata": {
    "id": "6VM0EQJhlsUt"
   },
   "source": [
    "The `imwrite` function can write out an image. Let's write out the image we just made, so we can use it later!"
   ]
  },
  {
   "cell_type": "code",
   "execution_count": null,
   "metadata": {
    "colab": {
     "base_uri": "https://localhost:8080/"
    },
    "executionInfo": {
     "elapsed": 7580,
     "status": "ok",
     "timestamp": 1614176965364,
     "user": {
      "displayName": "Toru Suzumi",
      "photoUrl": "https://lh3.googleusercontent.com/-wes5koG2tuQ/AAAAAAAAAAI/AAAAAAAA3fU/FSZGms2rQG4/s64/photo.jpg",
      "userId": "16748556482014954062"
     },
     "user_tz": 300
    },
    "id": "uB7vl5ehlsUu",
    "outputId": "b07c57d3-45a0-4491-dee1-6db528217b57"
   },
   "outputs": [],
   "source": [
    "rootpath='./.'\n",
    "import os\n",
    "output_path = os.path.join(rootpath, \"resize_bird.jpeg\")\n",
    "cv2.imwrite(output_path, resize_img3)"
   ]
  },
  {
   "cell_type": "markdown",
   "metadata": {
    "id": "OCG0F5m7lsUw"
   },
   "source": [
    "We should be able to read that image directly from the file. Let's try!"
   ]
  },
  {
   "cell_type": "code",
   "execution_count": null,
   "metadata": {
    "colab": {
     "base_uri": "https://localhost:8080/",
     "height": 265
    },
    "executionInfo": {
     "elapsed": 7570,
     "status": "ok",
     "timestamp": 1614176965364,
     "user": {
      "displayName": "Toru Suzumi",
      "photoUrl": "https://lh3.googleusercontent.com/-wes5koG2tuQ/AAAAAAAAAAI/AAAAAAAA3fU/FSZGms2rQG4/s64/photo.jpg",
      "userId": "16748556482014954062"
     },
     "user_tz": 300
    },
    "id": "T79N7N7DlsUx",
    "outputId": "3628b400-1cd4-46d5-cf4f-cffea3242616"
   },
   "outputs": [],
   "source": [
    "test_read_output = cv2.imread(output_path)\n",
    "print(\"Read file of shape:\",test_read_output.shape, \"type\",test_read_output.dtype)\n",
    "imshow(test_read_output)"
   ]
  },
  {
   "cell_type": "markdown",
   "metadata": {
    "id": "oEVrCiEQlsUz"
   },
   "source": [
    "Everything works as expected!"
   ]
  },
  {
   "cell_type": "markdown",
   "metadata": {},
   "source": [
    "#  Exercise"
   ]
  },
  {
   "cell_type": "markdown",
   "metadata": {},
   "source": [
    "(1) Read the bird image \n",
    "\n",
    "(2) Resize the image to (224,224) using bicubic interpolation method. \n",
    "\n",
    "(3) crop the center region of the image. The crop size is 128 for width and 156 for height. \n",
    "\n",
    "(4) Set the red channel of the crop image to be the average value of the green channel and blue channel for each pixel. \n",
    "\n",
    "(5) put the  images in step 1-4 in different plots of a figure. Set up a subplot grid with height 2 and width 2. "
   ]
  },
  {
   "cell_type": "code",
   "execution_count": null,
   "metadata": {},
   "outputs": [],
   "source": []
  },
  {
   "cell_type": "code",
   "execution_count": null,
   "metadata": {},
   "outputs": [],
   "source": []
  },
  {
   "cell_type": "code",
   "execution_count": null,
   "metadata": {},
   "outputs": [],
   "source": []
  },
  {
   "cell_type": "code",
   "execution_count": null,
   "metadata": {},
   "outputs": [],
   "source": []
  },
  {
   "cell_type": "code",
   "execution_count": null,
   "metadata": {},
   "outputs": [],
   "source": []
  }
 ],
 "metadata": {
  "kernelspec": {
   "display_name": "Python 3 (ipykernel)",
   "language": "python",
   "name": "python3"
  },
  "language_info": {
   "codemirror_mode": {
    "name": "ipython",
    "version": 3
   },
   "file_extension": ".py",
   "mimetype": "text/x-python",
   "name": "python",
   "nbconvert_exporter": "python",
   "pygments_lexer": "ipython3",
   "version": "3.8.11"
  }
 },
 "nbformat": 4,
 "nbformat_minor": 4
}
